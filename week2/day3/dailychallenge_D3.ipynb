{
 "cells": [
  {
   "cell_type": "code",
   "execution_count": 7,
   "metadata": {},
   "outputs": [],
   "source": [
    "import pandas as pd\n",
    "import numpy as np\n",
    "from sklearn.preprocessing import MinMaxScaler\n",
    "from sklearn.decomposition import PCA"
   ]
  },
  {
   "cell_type": "code",
   "execution_count": 8,
   "metadata": {},
   "outputs": [],
   "source": [
    "df = pd.read_csv(\"datascience_salaries.csv\")"
   ]
  },
  {
   "cell_type": "code",
   "execution_count": 9,
   "metadata": {},
   "outputs": [
    {
     "name": "stdout",
     "output_type": "stream",
     "text": [
      "   Unnamed: 0       job_title   job_type experience_level       location  \\\n",
      "0           0  Data scientist  Full Time           Senior  New York City   \n",
      "1           2  Data scientist  Full Time           Senior         Boston   \n",
      "2           3  Data scientist  Full Time           Senior         London   \n",
      "3           4  Data scientist  Full Time           Senior         Boston   \n",
      "4           5  Data scientist  Full Time           Senior  New York City   \n",
      "\n",
      "  salary_currency  salary  \n",
      "0             USD  149000  \n",
      "1             USD  120000  \n",
      "2             USD   68000  \n",
      "3             USD  120000  \n",
      "4             USD  149000  \n",
      "<class 'pandas.core.frame.DataFrame'>\n",
      "RangeIndex: 1171 entries, 0 to 1170\n",
      "Data columns (total 7 columns):\n",
      " #   Column            Non-Null Count  Dtype \n",
      "---  ------            --------------  ----- \n",
      " 0   Unnamed: 0        1171 non-null   int64 \n",
      " 1   job_title         1171 non-null   object\n",
      " 2   job_type          1171 non-null   object\n",
      " 3   experience_level  1171 non-null   object\n",
      " 4   location          1171 non-null   object\n",
      " 5   salary_currency   1171 non-null   object\n",
      " 6   salary            1171 non-null   int64 \n",
      "dtypes: int64(2), object(5)\n",
      "memory usage: 64.2+ KB\n",
      "None\n",
      "        Unnamed: 0         salary\n",
      "count  1171.000000    1171.000000\n",
      "mean    931.620837   64836.037575\n",
      "std     647.445266   32551.767046\n",
      "min       0.000000   30000.000000\n",
      "25%     364.500000   45000.000000\n",
      "50%     815.000000   63000.000000\n",
      "75%    1504.500000   68000.000000\n",
      "max    2259.000000  228000.000000\n"
     ]
    }
   ],
   "source": [
    "print(df.head())  \n",
    "print(df.info()) \n",
    "print(df.describe()) "
   ]
  },
  {
   "cell_type": "markdown",
   "metadata": {},
   "source": [
    "Normalize the 'salary' column"
   ]
  },
  {
   "cell_type": "code",
   "execution_count": 10,
   "metadata": {},
   "outputs": [],
   "source": [
    "scaler = MinMaxScaler()\n",
    "df['normalized_salary'] = scaler.fit_transform(df[['salary']])"
   ]
  },
  {
   "cell_type": "markdown",
   "metadata": {},
   "source": [
    "Dimensionality Reduction (PCA)"
   ]
  },
  {
   "cell_type": "code",
   "execution_count": null,
   "metadata": {},
   "outputs": [],
   "source": [
    "numeric_df = df.select_dtypes(include=[np.number]).drop(columns=['salary'])  \n",
    "pca = PCA(n_components=2) \n",
    "pca_result = pca.fit_transform(numeric_df)"
   ]
  },
  {
   "cell_type": "code",
   "execution_count": null,
   "metadata": {},
   "outputs": [],
   "source": [
    "df['PCA1'] = pca_result[:, 0]\n",
    "df['PCA2'] = pca_result[:, 1]"
   ]
  },
  {
   "cell_type": "code",
   "execution_count": null,
   "metadata": {},
   "outputs": [],
   "source": [
    "salary_stats = df.groupby('experience_level')['salary'].agg(['mean', 'median'])"
   ]
  },
  {
   "cell_type": "code",
   "execution_count": 13,
   "metadata": {},
   "outputs": [
    {
     "name": "stdout",
     "output_type": "stream",
     "text": [
      "\n",
      "Normalized Salary Preview:\n",
      "   salary  normalized_salary\n",
      "0  149000           0.601010\n",
      "1  120000           0.454545\n",
      "2   68000           0.191919\n",
      "3  120000           0.454545\n",
      "4  149000           0.601010\n",
      "\n",
      "Salary Statistics by Experience Level:\n",
      "salary_stats\n"
     ]
    }
   ],
   "source": [
    "print(\"\\nNormalized Salary Preview:\")\n",
    "print(df[['salary', 'normalized_salary']].head())\n",
    "\n",
    "print(\"\\nSalary Statistics by Experience Level:\")\n",
    "print('salary_stats')"
   ]
  }
 ],
 "metadata": {
  "kernelspec": {
   "display_name": "Python 3",
   "language": "python",
   "name": "python3"
  },
  "language_info": {
   "codemirror_mode": {
    "name": "ipython",
    "version": 3
   },
   "file_extension": ".py",
   "mimetype": "text/x-python",
   "name": "python",
   "nbconvert_exporter": "python",
   "pygments_lexer": "ipython3",
   "version": "3.13.2"
  }
 },
 "nbformat": 4,
 "nbformat_minor": 2
}
