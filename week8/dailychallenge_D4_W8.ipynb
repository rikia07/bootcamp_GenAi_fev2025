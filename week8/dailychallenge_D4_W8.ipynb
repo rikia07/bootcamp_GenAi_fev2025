{
  "nbformat": 4,
  "nbformat_minor": 0,
  "metadata": {
    "colab": {
      "provenance": []
    },
    "kernelspec": {
      "name": "python3",
      "display_name": "Python 3"
    },
    "language_info": {
      "name": "python"
    }
  },
  "cells": [
    {
      "cell_type": "markdown",
      "source": [
        "Daily Challenge: Getting Started with LangChain Conversational Memory"
      ],
      "metadata": {
        "id": "vp9tJfujWSjX"
      }
    },
    {
      "cell_type": "markdown",
      "source": [],
      "metadata": {
        "id": "oCMD4rCjWSUh"
      }
    },
    {
      "cell_type": "markdown",
      "source": [
        "1. Import the Memory Module"
      ],
      "metadata": {
        "id": "ki1u5t19WY4e"
      }
    },
    {
      "cell_type": "code",
      "execution_count": 1,
      "metadata": {
        "colab": {
          "base_uri": "https://localhost:8080/"
        },
        "id": "EMDdysHRWK6M",
        "outputId": "fb9b2270-3b02-4bbc-c564-2fcb72d02c43"
      },
      "outputs": [
        {
          "output_type": "stream",
          "name": "stdout",
          "text": [
            "Requirement already satisfied: langchain in /usr/local/lib/python3.11/dist-packages (0.3.22)\n",
            "Requirement already satisfied: openai in /usr/local/lib/python3.11/dist-packages (1.70.0)\n",
            "Requirement already satisfied: langchain-core<1.0.0,>=0.3.49 in /usr/local/lib/python3.11/dist-packages (from langchain) (0.3.49)\n",
            "Requirement already satisfied: langchain-text-splitters<1.0.0,>=0.3.7 in /usr/local/lib/python3.11/dist-packages (from langchain) (0.3.7)\n",
            "Requirement already satisfied: langsmith<0.4,>=0.1.17 in /usr/local/lib/python3.11/dist-packages (from langchain) (0.3.22)\n",
            "Requirement already satisfied: pydantic<3.0.0,>=2.7.4 in /usr/local/lib/python3.11/dist-packages (from langchain) (2.11.1)\n",
            "Requirement already satisfied: SQLAlchemy<3,>=1.4 in /usr/local/lib/python3.11/dist-packages (from langchain) (2.0.40)\n",
            "Requirement already satisfied: requests<3,>=2 in /usr/local/lib/python3.11/dist-packages (from langchain) (2.32.3)\n",
            "Requirement already satisfied: PyYAML>=5.3 in /usr/local/lib/python3.11/dist-packages (from langchain) (6.0.2)\n",
            "Requirement already satisfied: anyio<5,>=3.5.0 in /usr/local/lib/python3.11/dist-packages (from openai) (4.9.0)\n",
            "Requirement already satisfied: distro<2,>=1.7.0 in /usr/local/lib/python3.11/dist-packages (from openai) (1.9.0)\n",
            "Requirement already satisfied: httpx<1,>=0.23.0 in /usr/local/lib/python3.11/dist-packages (from openai) (0.28.1)\n",
            "Requirement already satisfied: jiter<1,>=0.4.0 in /usr/local/lib/python3.11/dist-packages (from openai) (0.9.0)\n",
            "Requirement already satisfied: sniffio in /usr/local/lib/python3.11/dist-packages (from openai) (1.3.1)\n",
            "Requirement already satisfied: tqdm>4 in /usr/local/lib/python3.11/dist-packages (from openai) (4.67.1)\n",
            "Requirement already satisfied: typing-extensions<5,>=4.11 in /usr/local/lib/python3.11/dist-packages (from openai) (4.13.0)\n",
            "Requirement already satisfied: idna>=2.8 in /usr/local/lib/python3.11/dist-packages (from anyio<5,>=3.5.0->openai) (3.10)\n",
            "Requirement already satisfied: certifi in /usr/local/lib/python3.11/dist-packages (from httpx<1,>=0.23.0->openai) (2025.1.31)\n",
            "Requirement already satisfied: httpcore==1.* in /usr/local/lib/python3.11/dist-packages (from httpx<1,>=0.23.0->openai) (1.0.7)\n",
            "Requirement already satisfied: h11<0.15,>=0.13 in /usr/local/lib/python3.11/dist-packages (from httpcore==1.*->httpx<1,>=0.23.0->openai) (0.14.0)\n",
            "Requirement already satisfied: tenacity!=8.4.0,<10.0.0,>=8.1.0 in /usr/local/lib/python3.11/dist-packages (from langchain-core<1.0.0,>=0.3.49->langchain) (9.1.2)\n",
            "Requirement already satisfied: jsonpatch<2.0,>=1.33 in /usr/local/lib/python3.11/dist-packages (from langchain-core<1.0.0,>=0.3.49->langchain) (1.33)\n",
            "Requirement already satisfied: packaging<25,>=23.2 in /usr/local/lib/python3.11/dist-packages (from langchain-core<1.0.0,>=0.3.49->langchain) (24.2)\n",
            "Requirement already satisfied: orjson<4.0.0,>=3.9.14 in /usr/local/lib/python3.11/dist-packages (from langsmith<0.4,>=0.1.17->langchain) (3.10.16)\n",
            "Requirement already satisfied: requests-toolbelt<2.0.0,>=1.0.0 in /usr/local/lib/python3.11/dist-packages (from langsmith<0.4,>=0.1.17->langchain) (1.0.0)\n",
            "Requirement already satisfied: zstandard<0.24.0,>=0.23.0 in /usr/local/lib/python3.11/dist-packages (from langsmith<0.4,>=0.1.17->langchain) (0.23.0)\n",
            "Requirement already satisfied: annotated-types>=0.6.0 in /usr/local/lib/python3.11/dist-packages (from pydantic<3.0.0,>=2.7.4->langchain) (0.7.0)\n",
            "Requirement already satisfied: pydantic-core==2.33.0 in /usr/local/lib/python3.11/dist-packages (from pydantic<3.0.0,>=2.7.4->langchain) (2.33.0)\n",
            "Requirement already satisfied: typing-inspection>=0.4.0 in /usr/local/lib/python3.11/dist-packages (from pydantic<3.0.0,>=2.7.4->langchain) (0.4.0)\n",
            "Requirement already satisfied: charset-normalizer<4,>=2 in /usr/local/lib/python3.11/dist-packages (from requests<3,>=2->langchain) (3.4.1)\n",
            "Requirement already satisfied: urllib3<3,>=1.21.1 in /usr/local/lib/python3.11/dist-packages (from requests<3,>=2->langchain) (2.3.0)\n",
            "Requirement already satisfied: greenlet>=1 in /usr/local/lib/python3.11/dist-packages (from SQLAlchemy<3,>=1.4->langchain) (3.1.1)\n",
            "Requirement already satisfied: jsonpointer>=1.9 in /usr/local/lib/python3.11/dist-packages (from jsonpatch<2.0,>=1.33->langchain-core<1.0.0,>=0.3.49->langchain) (3.0.0)\n"
          ]
        }
      ],
      "source": [
        "#  Installer les librairies nécessaires\n",
        "!pip install langchain openai"
      ]
    },
    {
      "cell_type": "code",
      "source": [
        "# Importer le module de mémoire\n",
        "from langchain.memory import ConversationBufferMemory"
      ],
      "metadata": {
        "id": "zq6IvXvuYVKO"
      },
      "execution_count": 2,
      "outputs": []
    },
    {
      "cell_type": "code",
      "source": [
        "# Initialiser la mémoire\n",
        "memory = ConversationBufferMemory()"
      ],
      "metadata": {
        "colab": {
          "base_uri": "https://localhost:8080/"
        },
        "id": "Tps6RKa8Yak_",
        "outputId": "86ff3de4-74b8-4c60-ce87-889a2423d2c4"
      },
      "execution_count": 3,
      "outputs": [
        {
          "output_type": "stream",
          "name": "stderr",
          "text": [
            "<ipython-input-3-18e712454215>:2: LangChainDeprecationWarning: Please see the migration guide at: https://python.langchain.com/docs/versions/migrating_memory/\n",
            "  memory = ConversationBufferMemory()\n"
          ]
        }
      ]
    },
    {
      "cell_type": "code",
      "source": [
        "#  Vérification\n",
        "print(\"Mémoire initialisée :\", memory)"
      ],
      "metadata": {
        "colab": {
          "base_uri": "https://localhost:8080/"
        },
        "id": "aUFhrwrhZdBF",
        "outputId": "c56c5e7c-adca-4d65-86ce-f728b308e391"
      },
      "execution_count": 4,
      "outputs": [
        {
          "output_type": "stream",
          "name": "stdout",
          "text": [
            "Mémoire initialisée : chat_memory=InMemoryChatMessageHistory(messages=[])\n"
          ]
        }
      ]
    },
    {
      "cell_type": "markdown",
      "source": [
        "2. Initialiser la mémoire"
      ],
      "metadata": {
        "id": "YojeHOsSZnH9"
      }
    },
    {
      "cell_type": "code",
      "source": [
        "# memory.save_context({\"input\": \"...\"}, {\"output\": \"...\"})\n",
        "# Ajout du 1er échange\n",
        "memory.save_context(\n",
        "    {\"input\": \"Salut, je suis Sara.\"},\n",
        "    {\"output\": \"Ravi Sara, comment puis-je t'aider ?\"}\n",
        ")\n",
        "\n",
        "# Ajout du 2e échange\n",
        "memory.save_context(\n",
        "    {\"input\": \"Quel temps fait-il aujourd'hui ?\"},\n",
        "    {\"output\": \"Je ne peux pas vérifier la météo, mais j'espère qu'il fait beau !\"}\n",
        ")"
      ],
      "metadata": {
        "id": "nX0yrOaUZmiv"
      },
      "execution_count": 5,
      "outputs": []
    },
    {
      "cell_type": "markdown",
      "source": [
        "3. Simulate a First Interaction"
      ],
      "metadata": {
        "id": "sAuStnF1cpmt"
      }
    },
    {
      "cell_type": "code",
      "source": [
        "# User : Hello, how are you?\n",
        "# Bot  : I'm fine, thank you. How can I assist you today?\n",
        "\n",
        "memory.save_context(\n",
        "    {\"input\": \"Hello, how are you?\"},\n",
        "    {\"output\": \"I'm fine, thank you. How can I assist you today?\"}\n",
        ")"
      ],
      "metadata": {
        "id": "_fXKniX2hwDc"
      },
      "execution_count": 7,
      "outputs": []
    },
    {
      "cell_type": "markdown",
      "source": [
        "4. Simulate a Follow-up Message"
      ],
      "metadata": {
        "id": "4F0R6dUIjzZs"
      }
    },
    {
      "cell_type": "code",
      "source": [
        "# User : Tell me a joke.\n",
        "# Bot  : Why did the chicken cross the road? To get to the other side.\n",
        "\n",
        "memory.save_context(\n",
        "    {\"input\": \"Tell me a joke.\"},\n",
        "    {\"output\": \"Why did the chicken cross the road? To get to the other side.\"}\n",
        ")"
      ],
      "metadata": {
        "id": "H2Ca7AqKj2XG"
      },
      "execution_count": 8,
      "outputs": []
    },
    {
      "cell_type": "code",
      "source": [
        "print(memory.buffer)"
      ],
      "metadata": {
        "colab": {
          "base_uri": "https://localhost:8080/"
        },
        "id": "ZrSZc5DnlVHs",
        "outputId": "e0b64605-97e5-4b02-dd25-2e6c8d01a136"
      },
      "execution_count": 9,
      "outputs": [
        {
          "output_type": "stream",
          "name": "stdout",
          "text": [
            "Human: Salut, je suis Sara.\n",
            "AI: Ravi Sara, comment puis-je t'aider ?\n",
            "Human: Quel temps fait-il aujourd'hui ?\n",
            "AI: Je ne peux pas vérifier la météo, mais j'espère qu'il fait beau !\n",
            "Human: Hello, how are you?\n",
            "AI: I'm fine, thank you. How can I assist you today?\n",
            "Human: Tell me a joke.\n",
            "AI: Why did the chicken cross the road? To get to the other side.\n"
          ]
        }
      ]
    },
    {
      "cell_type": "markdown",
      "source": [
        "5. Retrieve the Conversation History- Print the Memory"
      ],
      "metadata": {
        "id": "d-Upvcvgr3jc"
      }
    },
    {
      "cell_type": "code",
      "source": [
        "conversation_history = memory.load_memory_variables({})\n",
        "print(conversation_history[\"history\"])"
      ],
      "metadata": {
        "colab": {
          "base_uri": "https://localhost:8080/"
        },
        "id": "Ay02KfBCr2y1",
        "outputId": "0f2fb4f1-4c42-4f8c-a96a-28487be33260"
      },
      "execution_count": 10,
      "outputs": [
        {
          "output_type": "stream",
          "name": "stdout",
          "text": [
            "Human: Salut, je suis Sara.\n",
            "AI: Ravi Sara, comment puis-je t'aider ?\n",
            "Human: Quel temps fait-il aujourd'hui ?\n",
            "AI: Je ne peux pas vérifier la météo, mais j'espère qu'il fait beau !\n",
            "Human: Hello, how are you?\n",
            "AI: I'm fine, thank you. How can I assist you today?\n",
            "Human: Tell me a joke.\n",
            "AI: Why did the chicken cross the road? To get to the other side.\n"
          ]
        }
      ]
    }
  ]
}