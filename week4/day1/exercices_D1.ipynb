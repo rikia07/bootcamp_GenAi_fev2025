{
  "cells": [
    {
      "cell_type": "code",
      "execution_count": 1,
      "metadata": {
        "id": "4eoVkdm1T_0J"
      },
      "outputs": [],
      "source": [
        "import tensorflow as tf"
      ]
    },
    {
      "cell_type": "markdown",
      "metadata": {
        "id": "ZHHQygstUYBE"
      },
      "source": [
        "🌟 Exercise 1 : Small Quizz"
      ]
    },
    {
      "cell_type": "code",
      "execution_count": null,
      "metadata": {
        "id": "sjBCCQSWUqKE"
      },
      "outputs": [],
      "source": []
    },
    {
      "cell_type": "markdown",
      "metadata": {
        "id": "9txz9FsLUx_U"
      },
      "source": [
        "🌟 Exercise 2 : Building a Simple Perceptron Decision System"
      ]
    },
    {
      "cell_type": "markdown",
      "metadata": {
        "id": "4xwkEsHKVcHs"
      },
      "source": [
        "(50×0.7)+(1×0.3)+Bias=35+0.3+5=40.3"
      ]
    },
    {
      "cell_type": "markdown",
      "metadata": {
        "id": "SCoavw6HVoyr"
      },
      "source": [
        "Temperature weight = 0.6\n",
        "Rain weight = 0.4\n",
        "Bias = 2"
      ]
    },
    {
      "cell_type": "code",
      "execution_count": 16,
      "metadata": {
        "colab": {
          "base_uri": "https://localhost:8080/",
          "height": 106
        },
        "id": "jTzCvpYsUzQc",
        "outputId": "35eaa9ee-694c-4c66-b227-15b2adbb3eeb"
      },
      "outputs": [
        {
          "ename": "SyntaxError",
          "evalue": "invalid character '×' (U+00D7) (<ipython-input-16-5f0ae55fe5ed>, line 1)",
          "output_type": "error",
          "traceback": [
            "\u001b[0;36m  File \u001b[0;32m\"<ipython-input-16-5f0ae55fe5ed>\"\u001b[0;36m, line \u001b[0;32m1\u001b[0m\n\u001b[0;31m    Weighted Sum=(70×0.6)+(0×0.4)+2\u001b[0m\n\u001b[0m                    ^\u001b[0m\n\u001b[0;31mSyntaxError\u001b[0m\u001b[0;31m:\u001b[0m invalid character '×' (U+00D7)\n"
          ]
        }
      ],
      "source": [
        "Weighted Sum=(70×0.6)+(0×0.4)+2\n",
        "\n",
        "# Weighted Sum=(Temperature×0.6)+(Rain×0.4)+Bias\n",
        "\n",
        "if Weighted Sum > 20, output 1 :\n",
        "  print(\"yes, go outside\")\n",
        "\n"
      ]
    },
    {
      "cell_type": "markdown",
      "metadata": {
        "id": "1ClnjlqkXIGT"
      },
      "source": []
    },
    {
      "cell_type": "markdown",
      "metadata": {
        "id": "6m7GfBbeXKwj"
      },
      "source": [
        "🌟 Exercise 3 : Building a Simple Neural Network with TensorFlow/Keras"
      ]
    },
    {
      "cell_type": "code",
      "execution_count": 1,
      "metadata": {
        "id": "02DzHEi8XMJU"
      },
      "outputs": [],
      "source": [
        "from tensorflow.keras.datasets import mnist"
      ]
    },
    {
      "cell_type": "code",
      "execution_count": 2,
      "metadata": {
        "id": "tBx3sT_3YEJj"
      },
      "outputs": [],
      "source": [
        "import tensorflow as tf\n",
        "from tensorflow import keras"
      ]
    },
    {
      "cell_type": "markdown",
      "metadata": {
        "id": "N7czLdCedX_q"
      },
      "source": [
        "1-input tensorflow\n",
        "        tensorflow.keras\n",
        "2- dataset mnist\n",
        "X-train, y_train = mnist.load_data()\n",
        "3- preprocess --> normalise\n",
        "              --> hot encode  catégorical\n",
        "4-model architecture\n",
        "5-compile\n",
        "6-entraine\n",
        "7-evaluate"
      ]
    },
    {
      "cell_type": "code",
      "execution_count": 3,
      "metadata": {
        "colab": {
          "base_uri": "https://localhost:8080/"
        },
        "id": "og35cvmTXW6r",
        "outputId": "ba8d63ec-71ae-4c88-cb09-638799b8ec92"
      },
      "outputs": [
        {
          "name": "stdout",
          "output_type": "stream",
          "text": [
            "Downloading data from https://storage.googleapis.com/tensorflow/tf-keras-datasets/train-labels-idx1-ubyte.gz\n",
            "\u001b[1m29515/29515\u001b[0m \u001b[32m━━━━━━━━━━━━━━━━━━━━\u001b[0m\u001b[37m\u001b[0m \u001b[1m0s\u001b[0m 0us/step\n",
            "Downloading data from https://storage.googleapis.com/tensorflow/tf-keras-datasets/train-images-idx3-ubyte.gz\n",
            "\u001b[1m26421880/26421880\u001b[0m \u001b[32m━━━━━━━━━━━━━━━━━━━━\u001b[0m\u001b[37m\u001b[0m \u001b[1m0s\u001b[0m 0us/step\n",
            "Downloading data from https://storage.googleapis.com/tensorflow/tf-keras-datasets/t10k-labels-idx1-ubyte.gz\n",
            "\u001b[1m5148/5148\u001b[0m \u001b[32m━━━━━━━━━━━━━━━━━━━━\u001b[0m\u001b[37m\u001b[0m \u001b[1m0s\u001b[0m 0us/step\n",
            "Downloading data from https://storage.googleapis.com/tensorflow/tf-keras-datasets/t10k-images-idx3-ubyte.gz\n",
            "\u001b[1m4422102/4422102\u001b[0m \u001b[32m━━━━━━━━━━━━━━━━━━━━\u001b[0m\u001b[37m\u001b[0m \u001b[1m0s\u001b[0m 0us/step\n"
          ]
        }
      ],
      "source": [
        "(x_train_data, y_train_data), (x_val_data, y_val_data) = keras.datasets.fashion_mnist.load_data()"
      ]
    },
    {
      "cell_type": "markdown",
      "metadata": {
        "id": "R60P1uWB4LgA"
      },
      "source": [
        "Preprocess the Data"
      ]
    },
    {
      "cell_type": "code",
      "execution_count": 19,
      "metadata": {
        "id": "9JcloohTYKc7"
      },
      "outputs": [],
      "source": [
        "def preprocessing_function(x_train_data, y_train_data):\n",
        "  x_train_data = tf.cast(x_train_data, tf.float32) / 255.0  # Normalize pixel values ,x = entree\n",
        "  y_train_data = tf.cast(y_train_data, tf.int64)            # Convert labels to integers, y probability de sortie\n",
        "  return x_train_data, y_train_data\n",
        "\n",
        "def func_creating_dataset(x_val_data, y_val_data, num_classes=10):\n",
        "  y_val_data = tf.one_hot(y_val_data, depth=num_classes)  # One-hot encode labels\n",
        "  return tf.data.Dataset.from_tensor_slices((x_val_data, y_val_data)) \\\n",
        "    .map(preprocessing_function) \\\n",
        "    .shuffle(buffer_size=1000) \\\n",
        "    .batch(32)"
      ]
    },
    {
      "cell_type": "markdown",
      "metadata": {
        "id": "15-OGBz54E3w"
      },
      "source": [
        " Create the Neural Network"
      ]
    },
    {
      "cell_type": "code",
      "execution_count": 5,
      "metadata": {
        "colab": {
          "base_uri": "https://localhost:8080/"
        },
        "id": "QiRJVPRqYp9L",
        "outputId": "fa26371e-8e16-4a87-80f2-535bf9bf0205"
      },
      "outputs": [
        {
          "name": "stderr",
          "output_type": "stream",
          "text": [
            "/usr/local/lib/python3.11/dist-packages/keras/src/layers/reshaping/reshape.py:39: UserWarning: Do not pass an `input_shape`/`input_dim` argument to a layer. When using Sequential models, prefer using an `Input(shape)` object as the first layer in the model instead.\n",
            "  super().__init__(**kwargs)\n"
          ]
        }
      ],
      "source": [
        "My_model = keras.Sequential([\n",
        "    keras.layers.Reshape(target_shape=(28 * 28,), input_shape=(28, 28)),  # Flatten the input\n",
        "    keras.layers.Dense(units=128, activation='relu'),        # Hidden layer 1 : A layer with 256 neurons and the ReLU activation function.\n",
        "    keras.layers.Dense(units=10, activation='softmax')       # Output layer :  Outputs 10 probabilities (one for each class).\n",
        "])"
      ]
    },
    {
      "cell_type": "markdown",
      "metadata": {
        "id": "cnOlbiO44BUI"
      },
      "source": [
        "Compile the Model"
      ]
    },
    {
      "cell_type": "code",
      "execution_count": 6,
      "metadata": {
        "id": "Ik6Yhh5h3rnP"
      },
      "outputs": [],
      "source": [
        "My_model.compile(optimizer='adam',\n",
        "              loss=tf.losses.CategoricalCrossentropy(),\n",
        "              metrics=['accuracy'])"
      ]
    },
    {
      "cell_type": "markdown",
      "metadata": {
        "id": "Aw8mLrxf4Ahg"
      },
      "source": [
        "Train the Model"
      ]
    },
    {
      "cell_type": "code",
      "execution_count": 18,
      "metadata": {
        "id": "5uMENTFlinLu"
      },
      "outputs": [],
      "source": [
        "dataset_train = func_creating_dataset(x_train_data, y_train_data)"
      ]
    },
    {
      "cell_type": "code",
      "execution_count": 20,
      "metadata": {
        "id": "JuIGkE1wjLRm"
      },
      "outputs": [],
      "source": [
        "dataset_val = func_creating_dataset(x_val_data, y_val_data)"
      ]
    },
    {
      "cell_type": "code",
      "execution_count": 21,
      "metadata": {
        "colab": {
          "base_uri": "https://localhost:8080/"
        },
        "id": "BU-jN7nx391o",
        "outputId": "b3cad659-a75f-4e27-ba0f-35556ccd716a"
      },
      "outputs": [
        {
          "name": "stdout",
          "output_type": "stream",
          "text": [
            "Epoch 1/10\n",
            "\u001b[1m500/500\u001b[0m \u001b[32m━━━━━━━━━━━━━━━━━━━━\u001b[0m\u001b[37m\u001b[0m \u001b[1m3s\u001b[0m 4ms/step - accuracy: 0.7142 - loss: 0.8372 - val_accuracy: 0.8438 - val_loss: 0.5131\n",
            "Epoch 2/10\n",
            "\u001b[1m500/500\u001b[0m \u001b[32m━━━━━━━━━━━━━━━━━━━━\u001b[0m\u001b[37m\u001b[0m \u001b[1m2s\u001b[0m 4ms/step - accuracy: 0.8195 - loss: 0.5056 - val_accuracy: 0.8594 - val_loss: 0.4486\n",
            "Epoch 3/10\n",
            "\u001b[1m500/500\u001b[0m \u001b[32m━━━━━━━━━━━━━━━━━━━━\u001b[0m\u001b[37m\u001b[0m \u001b[1m2s\u001b[0m 4ms/step - accuracy: 0.8455 - loss: 0.4403 - val_accuracy: 0.8125 - val_loss: 0.5394\n",
            "Epoch 4/10\n",
            "\u001b[1m500/500\u001b[0m \u001b[32m━━━━━━━━━━━━━━━━━━━━\u001b[0m\u001b[37m\u001b[0m \u001b[1m3s\u001b[0m 5ms/step - accuracy: 0.8510 - loss: 0.4215 - val_accuracy: 0.8906 - val_loss: 0.4515\n",
            "Epoch 5/10\n",
            "\u001b[1m500/500\u001b[0m \u001b[32m━━━━━━━━━━━━━━━━━━━━\u001b[0m\u001b[37m\u001b[0m \u001b[1m2s\u001b[0m 5ms/step - accuracy: 0.8598 - loss: 0.3914 - val_accuracy: 0.8438 - val_loss: 0.4294\n",
            "Epoch 6/10\n",
            "\u001b[1m500/500\u001b[0m \u001b[32m━━━━━━━━━━━━━━━━━━━━\u001b[0m\u001b[37m\u001b[0m \u001b[1m3s\u001b[0m 5ms/step - accuracy: 0.8629 - loss: 0.3753 - val_accuracy: 0.8750 - val_loss: 0.4159\n",
            "Epoch 7/10\n",
            "\u001b[1m500/500\u001b[0m \u001b[32m━━━━━━━━━━━━━━━━━━━━\u001b[0m\u001b[37m\u001b[0m \u001b[1m3s\u001b[0m 5ms/step - accuracy: 0.8692 - loss: 0.3620 - val_accuracy: 0.8750 - val_loss: 0.3722\n",
            "Epoch 8/10\n",
            "\u001b[1m500/500\u001b[0m \u001b[32m━━━━━━━━━━━━━━━━━━━━\u001b[0m\u001b[37m\u001b[0m \u001b[1m3s\u001b[0m 5ms/step - accuracy: 0.8703 - loss: 0.3590 - val_accuracy: 0.8594 - val_loss: 0.3705\n",
            "Epoch 9/10\n",
            "\u001b[1m500/500\u001b[0m \u001b[32m━━━━━━━━━━━━━━━━━━━━\u001b[0m\u001b[37m\u001b[0m \u001b[1m2s\u001b[0m 5ms/step - accuracy: 0.8731 - loss: 0.3395 - val_accuracy: 0.7969 - val_loss: 0.4523\n",
            "Epoch 10/10\n",
            "\u001b[1m500/500\u001b[0m \u001b[32m━━━━━━━━━━━━━━━━━━━━\u001b[0m\u001b[37m\u001b[0m \u001b[1m5s\u001b[0m 10ms/step - accuracy: 0.8822 - loss: 0.3264 - val_accuracy: 0.9062 - val_loss: 0.2873\n"
          ]
        }
      ],
      "source": [
        "history = My_model.fit(\n",
        "    dataset_train.repeat(),\n",
        "    epochs=10,\n",
        "    steps_per_epoch=500,\n",
        "    validation_data=dataset_val.repeat(),\n",
        "    validation_steps=2\n",
        ")"
      ]
    },
    {
      "cell_type": "markdown",
      "metadata": {
        "id": "iosUKEXw6EkA"
      },
      "source": [
        " Make Predictions"
      ]
    },
    {
      "cell_type": "code",
      "execution_count": 22,
      "metadata": {
        "colab": {
          "base_uri": "https://localhost:8080/"
        },
        "id": "cvxXDeWo6FqI",
        "outputId": "aea5db5a-2cf5-4d47-9b77-abd85a04dad5"
      },
      "outputs": [
        {
          "name": "stdout",
          "output_type": "stream",
          "text": [
            "\u001b[1m313/313\u001b[0m \u001b[32m━━━━━━━━━━━━━━━━━━━━\u001b[0m\u001b[37m\u001b[0m \u001b[1m1s\u001b[0m 2ms/step\n",
            "[[1.0338176e-04 1.7586466e-06 4.5842269e-05 ... 4.9046438e-02\n",
            "  1.1107164e-03 1.4225795e-03]\n",
            " [5.5155575e-01 3.5433716e-04 2.4039508e-04 ... 7.1349268e-12\n",
            "  7.0639871e-06 1.9485309e-09]\n",
            " [9.6709427e-06 2.9543679e-07 2.5024736e-05 ... 1.4750527e-04\n",
            "  1.7650762e-05 9.0106019e-05]\n",
            " ...\n",
            " [6.7689334e-06 2.2957168e-07 1.5647197e-06 ... 3.6014479e-01\n",
            "  1.6098946e-05 8.3854556e-04]\n",
            " [1.4626176e-05 1.0831694e-06 1.9219267e-06 ... 9.9200916e-01\n",
            "  5.2251278e-05 1.3632050e-03]\n",
            " [2.5019585e-07 5.0821597e-10 1.6975847e-08 ... 1.1510506e-09\n",
            "  9.9999744e-01 7.7376400e-10]]\n"
          ]
        }
      ],
      "source": [
        "Make_predictions = My_model.predict(dataset_val)\n",
        "print(Make_predictions)"
      ]
    },
    {
      "cell_type": "markdown",
      "metadata": {
        "id": "7ZjImGVv6P65"
      },
      "source": [
        "Evaluate the Model"
      ]
    },
    {
      "cell_type": "code",
      "execution_count": 23,
      "metadata": {
        "colab": {
          "base_uri": "https://localhost:8080/"
        },
        "id": "1orpSHyO6Qvn",
        "outputId": "226e9503-4f77-49c6-b5ba-5059a1b8e5a3"
      },
      "outputs": [
        {
          "name": "stdout",
          "output_type": "stream",
          "text": [
            "\u001b[1m313/313\u001b[0m \u001b[32m━━━━━━━━━━━━━━━━━━━━\u001b[0m\u001b[37m\u001b[0m \u001b[1m1s\u001b[0m 2ms/step - accuracy: 0.8615 - loss: 0.3870\n",
            "Test Accuracy: 0.86\n"
          ]
        }
      ],
      "source": [
        "test_loss, test_accuracy = My_model.evaluate(dataset_val)\n",
        "print(f\"Test Accuracy: {test_accuracy:.2f}\")"
      ]
    },
    {
      "cell_type": "markdown",
      "metadata": {
        "id": "fNGnFsaNkexR"
      },
      "source": []
    },
    {
      "cell_type": "markdown",
      "metadata": {
        "id": "afRnWKgVbhmi"
      },
      "source": []
    },
    {
      "cell_type": "markdown",
      "metadata": {
        "id": "jfXPR8Pdca7C"
      },
      "source": [
        "🌟 Exercice 4 : Calcul de la propagation vers l'avant"
      ]
    },
    {
      "cell_type": "markdown",
      "metadata": {
        "id": "HtGQX23CcmGi"
      },
      "source": [
        "calculerez manuellement la propagation vers l'avant d'un réseau neuronal simple"
      ]
    },
    {
      "cell_type": "markdown",
      "metadata": {
        "id": "TlWjxG2WcoYK"
      },
      "source": [
        "Superficie en pieds carrés (x₁)\n",
        "Nombre de chambres (x₂)"
      ]
    },
    {
      "cell_type": "code",
      "execution_count": 24,
      "metadata": {
        "colab": {
          "base_uri": "https://localhost:8080/",
          "height": 106
        },
        "id": "UGP7TEhecgkq",
        "outputId": "6db85262-82ad-444d-c4d6-aac1829d3e80"
      },
      "outputs": [
        {
          "ename": "SyntaxError",
          "evalue": "invalid character '₁' (U+2081) (<ipython-input-24-a39ac4607d51>, line 3)",
          "output_type": "error",
          "traceback": [
            "\u001b[0;36m  File \u001b[0;32m\"<ipython-input-24-a39ac4607d51>\"\u001b[0;36m, line \u001b[0;32m3\u001b[0m\n\u001b[0;31m    x₁ = 2000\u001b[0m\n\u001b[0m     ^\u001b[0m\n\u001b[0;31mSyntaxError\u001b[0m\u001b[0;31m:\u001b[0m invalid character '₁' (U+2081)\n"
          ]
        }
      ],
      "source": [
        "Input Values:\n",
        "    #  Square Footage:\n",
        "x₁ = 2000\n",
        "    # Number of Bedrooms\n",
        "x₂ = 3\n",
        "Initial Weights:\n",
        "# Weight for Square Footage:\n",
        "w₁ = 0.5\n",
        "# Weight for Bedrooms:\n",
        "w₂ = 0.7\n",
        "Bias: b = 50,000\n",
        "Activation Function: ReLU (Rectified Linear Unit)"
      ]
    },
    {
      "cell_type": "code",
      "execution_count": null,
      "metadata": {
        "id": "QPn9bGAFl1MW"
      },
      "outputs": [],
      "source": [
        "x₁ =2000\n",
        "x₂ = 3\n",
        "w₁ = 0.5\n",
        "w₂ = 0.7\n",
        "Bias: b = 50000"
      ]
    },
    {
      "cell_type": "markdown",
      "metadata": {
        "id": "Ltc0w24hmVOG"
      },
      "source": [
        "Forward Propagation"
      ]
    },
    {
      "cell_type": "markdown",
      "metadata": {
        "id": "9v-fenT3nQcg"
      },
      "source": [
        "valeur de sortie « z » avant l’activation."
      ]
    },
    {
      "cell_type": "code",
      "execution_count": 40,
      "metadata": {
        "id": "ILnYp-6-mLJf"
      },
      "outputs": [],
      "source": [
        "# z1=(w1×2000)+(w2×3)+b1\n",
        "z1 =(0.5*2000)+(0.7*3)+50000"
      ]
    },
    {
      "cell_type": "code",
      "execution_count": 41,
      "metadata": {
        "id": "nIWvL35DmNzX"
      },
      "outputs": [],
      "source": [
        "x1 = 2000\n",
        "x2 = 3\n",
        "w1 = 0.5\n",
        "w2 = 0.7\n",
        "b1 = 50000\n",
        "z1=(w1*2000)+(w2*3)+b1"
      ]
    },
    {
      "cell_type": "markdown",
      "metadata": {
        "id": "ypQNSaTXnR83"
      },
      "source": [
        "Appliquez la fonction ReLU"
      ]
    },
    {
      "cell_type": "code",
      "execution_count": 42,
      "metadata": {
        "colab": {
          "base_uri": "https://localhost:8080/"
        },
        "id": "cQXsCbuZnUr0",
        "outputId": "fe8651d7-dc6f-4322-cc8b-99a90ba1ebbc"
      },
      "outputs": [
        {
          "data": {
            "text/plain": [
              "51002.1"
            ]
          },
          "execution_count": 42,
          "metadata": {},
          "output_type": "execute_result"
        }
      ],
      "source": [
        "# a1=max⁡(0,z1)\n",
        "a1=max(0,z1)\n",
        "a1"
      ]
    },
    {
      "cell_type": "markdown",
      "metadata": {
        "id": "vQZctKlapKyW"
      },
      "source": [
        "Exercice 5 : Implémentation de la propagation avant et arrière en Python"
      ]
    },
    {
      "cell_type": "code",
      "execution_count": 43,
      "metadata": {
        "colab": {
          "base_uri": "https://localhost:8080/"
        },
        "id": "DHVy9vJTpNJ7",
        "outputId": "55bac568-5387-4c35-dd39-66998274c7f3"
      },
      "outputs": [
        {
          "name": "stdout",
          "output_type": "stream",
          "text": [
            "Initial Prediction: 36.4\n",
            "Loss: 1180.98\n",
            "Updated Weights: [ 2.544 39.18 ]\n",
            "Updated Bias: 10.486\n"
          ]
        }
      ],
      "source": [
        "import numpy as np\n",
        "\n",
        "# Initialize input data (features)\n",
        "x = np.array([4, 80])  # 4 hours studied, previous test score: 80\n",
        "\n",
        "# Initialize weights and bias\n",
        "w = np.array([0.6, 0.3])  # Initial weights\n",
        "b = 10  # Initial bias\n",
        "\n",
        "# Forward Propagation\n",
        "def forward_propagation(x, w, b):\n",
        "    z = np.dot(x, w) + b  # Weighted sum\n",
        "    return z  # Linear activation (No ReLU here, it's a regression task)\n",
        "\n",
        "# Compute prediction\n",
        "y_pred = forward_propagation(x, w, b)\n",
        "y_true = 85  # Actual exam score\n",
        "\n",
        "# Compute Loss (Mean Squared Error)\n",
        "loss = 0.5 * (y_true - y_pred) ** 2\n",
        "\n",
        "# Compute Gradients\n",
        "grad_w = -(y_true - y_pred) * x  # Partial derivatives with respect to weights\n",
        "grad_b = -(y_true - y_pred)  # Partial derivative with respect to bias\n",
        "\n",
        "# Update Weights and Bias\n",
        "learning_rate = 0.01\n",
        "w_new = w - learning_rate * grad_w\n",
        "b_new = b - learning_rate * grad_b\n",
        "\n",
        "# Print Results\n",
        "print(\"Initial Prediction:\", y_pred)\n",
        "print(\"Loss:\", loss)\n",
        "print(\"Updated Weights:\", w_new)\n",
        "print(\"Updated Bias:\", b_new)"
      ]
    },
    {
      "cell_type": "code",
      "execution_count": 44,
      "metadata": {
        "colab": {
          "base_uri": "https://localhost:8080/"
        },
        "id": "SukL-ircp-0U",
        "outputId": "30dbe357-3bd7-4ecc-878b-16de3fc48920"
      },
      "outputs": [
        {
          "name": "stdout",
          "output_type": "stream",
          "text": [
            "Initial Prediction: 68.0\n",
            "Loss: 144.5\n",
            "Updated Weights: [ 1.18 14.3 ]\n",
            "Updated Bias: 10.17\n"
          ]
        }
      ],
      "source": [
        "import numpy as np\n",
        "\n",
        "# Initialize input data (features)\n",
        "x = np.array([4, 80])  # 4 hours studied, previous test score: 80\n",
        "\n",
        "# Initialize weights and bias\n",
        "w = np.array([0.5, 0.7])  # Initial weights\n",
        "b = 10  # Initial bias\n",
        "\n",
        "# Forward Propagation\n",
        "def forward_propagation(x, w, b):\n",
        "    z = np.dot(x, w) + b  # Weighted sum\n",
        "    return z  # Linear activation (No ReLU here, it's a regression task)\n",
        "\n",
        "# Compute prediction\n",
        "y_pred = forward_propagation(x, w, b)\n",
        "y_true = 85  # Actual exam score\n",
        "\n",
        "# Compute Loss (Mean Squared Error)\n",
        "loss = 0.5 * (y_true - y_pred) ** 2\n",
        "\n",
        "# Compute Gradients\n",
        "grad_w = -(y_true - y_pred) * x  # Partial derivatives with respect to weights\n",
        "grad_b = -(y_true - y_pred)  # Partial derivative with respect to bias\n",
        "\n",
        "# Update Weights and Bias\n",
        "learning_rate = 0.01\n",
        "w_new = w - learning_rate * grad_w\n",
        "b_new = b - learning_rate * grad_b\n",
        "\n",
        "# Print Results\n",
        "print(\"Initial Prediction:\", y_pred)\n",
        "print(\"Loss:\", loss)\n",
        "print(\"Updated Weights:\", w_new)\n",
        "print(\"Updated Bias:\", b_new)"
      ]
    },
    {
      "cell_type": "markdown",
      "metadata": {
        "id": "2IM8gp6dpiVe"
      },
      "source": [
        "gradient important donc davantage mise à jour du weight donc reduction de l'erreur"
      ]
    },
    {
      "cell_type": "markdown",
      "metadata": {
        "id": "2edTOnAvnHmt"
      },
      "source": []
    }
  ],
  "metadata": {
    "colab": {
      "provenance": []
    },
    "kernelspec": {
      "display_name": "Python 3",
      "name": "python3"
    },
    "language_info": {
      "name": "python"
    }
  },
  "nbformat": 4,
  "nbformat_minor": 0
}
