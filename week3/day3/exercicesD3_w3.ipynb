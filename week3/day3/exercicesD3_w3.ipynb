{
 "cells": [
  {
   "cell_type": "markdown",
   "metadata": {},
   "source": [
    "🌟 Exercise 1: Basic Usage of SciPy"
   ]
  },
  {
   "cell_type": "code",
   "execution_count": 1,
   "metadata": {},
   "outputs": [
    {
     "data": {
      "text/plain": [
       "'1.15.2'"
      ]
     },
     "execution_count": 1,
     "metadata": {},
     "output_type": "execute_result"
    }
   ],
   "source": [
    "import scipy\n",
    "\n",
    "scipy.__version__"
   ]
  },
  {
   "cell_type": "code",
   "execution_count": null,
   "metadata": {},
   "outputs": [],
   "source": [
    "import numpy as np\n",
    "import scipy.stats as stats"
   ]
  },
  {
   "cell_type": "markdown",
   "metadata": {},
   "source": [
    "🌟 Exercise 2: Descriptive Statistics"
   ]
  },
  {
   "cell_type": "markdown",
   "metadata": {},
   "source": []
  },
  {
   "cell_type": "code",
   "execution_count": 4,
   "metadata": {},
   "outputs": [],
   "source": [
    "data = [12, 15, 13, 12, 18, 20, 22, 21]"
   ]
  },
  {
   "cell_type": "code",
   "execution_count": 5,
   "metadata": {},
   "outputs": [],
   "source": [
    "mean = stats.tmean(data)\n",
    "median = stats.tmean(data)\n",
    "var = stats.tvar(data)\n",
    "std = stats.tstd(data)"
   ]
  },
  {
   "cell_type": "code",
   "execution_count": null,
   "metadata": {},
   "outputs": [],
   "source": [
    "mean\n",
    "median\n",
    "var\n",
    "std"
   ]
  },
  {
   "cell_type": "markdown",
   "metadata": {},
   "source": [
    "\n",
    "🌟 Exercise 3: Understanding Distributions"
   ]
  },
  {
   "cell_type": "code",
   "execution_count": 8,
   "metadata": {},
   "outputs": [],
   "source": [
    "import numpy as np\n",
    "import matplotlib.pyplot as plt\n",
    "from scipy.stats import norm"
   ]
  },
  {
   "cell_type": "code",
   "execution_count": 12,
   "metadata": {},
   "outputs": [
    {
     "name": "stdout",
     "output_type": "stream",
     "text": [
      "PDF at x=10: 1.3383022576488537e-05\n"
     ]
    }
   ],
   "source": [
    "# Gaussian Distribution\n",
    "mu, sigma = 50, 10  # mean and standard deviation\n",
    "gaussian_dist = stats.norm(mu, sigma)\n",
    "print(\"PDF at x=10:\", gaussian_dist.pdf(10))"
   ]
  },
  {
   "cell_type": "code",
   "execution_count": 14,
   "metadata": {},
   "outputs": [
    {
     "name": "stderr",
     "output_type": "stream",
     "text": [
      "<>:7: SyntaxWarning: invalid escape sequence '\\m'\n",
      "<>:7: SyntaxWarning: invalid escape sequence '\\m'\n",
      "C:\\Users\\rickia\\AppData\\Local\\Temp\\ipykernel_16704\\224318823.py:7: SyntaxWarning: invalid escape sequence '\\m'\n",
      "  plt.title('Gaussian Distribution\\n$\\mu=0$, $\\sigma=0.1$')\n"
     ]
    },
    {
     "data": {
      "image/png": "[encoded data removed]",
      "text/plain": [
       "<Figure size 600x400 with 1 Axes>"
      ]
     },
     "metadata": {},
     "output_type": "display_data"
    }
   ],
   "source": [
    "\n",
    "# Plotting Gaussian Distribution\n",
    "x_gaussian = np.linspace(-0.5, 0.5, 100)\n",
    "# x = np.linspace(mean - 4*sigma, mean + 4*sigma, 1000)\n",
    "pdf_gaussian = gaussian_dist.pdf(x_gaussian)\n",
    "plt.figure(figsize=(6, 4))\n",
    "plt.plot(x_gaussian, pdf_gaussian)\n",
    "plt.title('Gaussian Distribution\\n$\\mu=0$, $\\sigma=0.1$')\n",
    "plt.xlabel('x')\n",
    "plt.ylabel('PDF')\n",
    "plt.show()"
   ]
  },
  {
   "cell_type": "markdown",
   "metadata": {},
   "source": [
    "🌟 Exercise 4: T-Test Application"
   ]
  },
  {
   "cell_type": "code",
   "execution_count": 15,
   "metadata": {},
   "outputs": [],
   "source": [
    "data1 = np.random.normal(50, 10, 100)\n",
    "data2 = np.random.normal(60, 10, 100)"
   ]
  },
  {
   "cell_type": "code",
   "execution_count": 16,
   "metadata": {},
   "outputs": [
    {
     "name": "stdout",
     "output_type": "stream",
     "text": [
      "T-statistic: -6.362514044145547\n",
      "P-value: 1.348767639715818e-09\n"
     ]
    }
   ],
   "source": [
    "t_statistic, p_value = stats.ttest_ind(data1, data2)\n",
    "print(\"T-statistic:\", t_statistic)\n",
    "print(\"P-value:\", p_value)"
   ]
  }
 ],
 "metadata": {
  "kernelspec": {
   "display_name": "Python 3",
   "language": "python",
   "name": "python3"
  },
  "language_info": {
   "codemirror_mode": {
    "name": "ipython",
    "version": 3
   },
   "file_extension": ".py",
   "mimetype": "text/x-python",
   "name": "python",
   "nbconvert_exporter": "python",
   "pygments_lexer": "ipython3",
   "version": "3.13.2"
  }
 },
 "nbformat": 4,
 "nbformat_minor": 2
}
