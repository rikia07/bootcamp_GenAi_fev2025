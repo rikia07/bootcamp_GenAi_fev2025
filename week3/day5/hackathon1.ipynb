{
 "cells": [
  {
   "cell_type": "markdown",
   "metadata": {},
   "source": [
    "Étape 1 : Comprendre les Données"
   ]
  },
  {
   "cell_type": "markdown",
   "metadata": {},
   "source": [
    "Visualisation de l'attrition"
   ]
  },
  {
   "cell_type": "markdown",
   "metadata": {},
   "source": [
    "Relations entre variables"
   ]
  },
  {
   "cell_type": "markdown",
   "metadata": {},
   "source": [
    "1-Attrition vs OverTime/ MonthlyIncome/ WorkLifeBalance\n",
    " -test T"
   ]
  },
  {
   "cell_type": "markdown",
   "metadata": {},
   "source": [
    "2-Performance vs JobSatisfaction, TotalWorkingYears\n",
    " - regression et analyse de correlation"
   ]
  },
  {
   "cell_type": "markdown",
   "metadata": {},
   "source": [
    "Étape 2 : Analyse Statistique pour Vérifier les Hypothèses"
   ]
  },
  {
   "cell_type": "markdown",
   "metadata": {},
   "source": [
    "Objectif : Tester si certaines variables influencent significativement l’attrition et la performance"
   ]
  },
  {
   "cell_type": "markdown",
   "metadata": {},
   "source": [
    "A- Comparaison de groupes : Test T et ANOVA"
   ]
  },
  {
   "cell_type": "markdown",
   "metadata": {},
   "source": [
    "hyp 1: Test T : Comparer Attrition = Yes vs Attrition = No pour OverTime."
   ]
  },
  {
   "cell_type": "code",
   "execution_count": null,
   "metadata": {},
   "outputs": [],
   "source": [
    "from scipy.stats import ttest_ind\n",
    "\n",
    "# Séparation des groupes\n",
    "overtime_yes = df[df['OverTime'] == 'Yes']['Attrition'].apply(lambda x: 1 if x == 'Yes' else 0)\n",
    "overtime_no = df[df['OverTime'] == 'No']['Attrition'].apply(lambda x: 1 if x == 'Yes' else 0)\n",
    "\n",
    "# Test T\n",
    "stat, p_value = ttest_ind(overtime_yes, overtime_no, equal_var=False)\n",
    "\n",
    "print(f\"Statistique de test T : {stat}, P-value : {p_value}\")"
   ]
  },
  {
   "cell_type": "markdown",
   "metadata": {},
   "source": [
    "si p_value<0.05--> effet significatif"
   ]
  },
  {
   "cell_type": "markdown",
   "metadata": {},
   "source": [
    "Hypothèse 2 : La performance des employés varie selon leur niveau d’éducation.\n",
    "📌 ANOVA : Comparer PerformanceRating entre les niveaux de Education."
   ]
  },
  {
   "cell_type": "code",
   "execution_count": null,
   "metadata": {},
   "outputs": [],
   "source": [
    "from scipy.stats import f_oneway\n",
    "\n",
    "education_groups = [df[df['Education'] == level]['PerformanceRating'] for level in df['Education'].unique()]\n",
    "stat, p_value = f_oneway(*education_groups)\n",
    "\n",
    "print(f\"Statistique F : {stat}, P-value : {p_value}\")"
   ]
  },
  {
   "cell_type": "markdown",
   "metadata": {},
   "source": [
    "B-Analyse des Corrélations"
   ]
  },
  {
   "cell_type": "markdown",
   "metadata": {},
   "source": [
    " liens entre variables numériques : Matrice de corrélation"
   ]
  },
  {
   "cell_type": "code",
   "execution_count": null,
   "metadata": {},
   "outputs": [],
   "source": [
    "# Heatmap des corrélations"
   ]
  },
  {
   "cell_type": "markdown",
   "metadata": {},
   "source": [
    "observer : Une forte corrélation positive entre TotalWorkingYears et MonthlyIncome signifie que les employés expérimentés gagnent plus.\n",
    "Une corrélation négative entre Attrition et WorkLifeBalance signifie que les employés avec un mauvais équilibre travail-vie quittent plus."
   ]
  },
  {
   "cell_type": "markdown",
   "metadata": {},
   "source": [
    " Étape 3 : Modélisation et Prédiction de l'Attrition"
   ]
  },
  {
   "cell_type": "markdown",
   "metadata": {},
   "source": [
    "🔹 Étape 4 : Conclusions et Recommandations\n",
    "🎯 Objectif : Proposer des actions basées sur les analyses.\n",
    "\n",
    "4.1 Résumé des Résultats\n",
    "✅ Facteurs influençant l'attrition :\n",
    "\n",
    "📌 OverTime 📈 → Les employés qui font des heures sup quittent plus souvent.\n",
    "📌 WorkLifeBalance 📉 → Un mauvais équilibre travail-vie augmente l’attrition.\n",
    "📌 MonthlyIncome ❌ → Peu d’impact direct sur l’attrition.\n",
    "✅ Facteurs influençant la performance :\n",
    "\n",
    "📌 TotalWorkingYears 📈 → Plus d'expérience = meilleure performance.\n",
    "📌 Education ❌ → Aucune différence significative de performance entre niveaux d'éducation.\n",
    "4.2 Recommandations Stratégiques\n",
    "✅ Pour Réduire l’Attrition :\n",
    "\n",
    "Limiter les heures supplémentaires : Réduire la charge de travail excessive.\n",
    "Améliorer l’équilibre travail-vie : Flexibilité, télétravail, congés.\n",
    "✅ Pour Améliorer la Performance :\n",
    "\n",
    "Valoriser l’expérience des employés : Formations, mentorat.\n",
    "Évaluer les compétences plutôt que l’éducation."
   ]
  },
  {
   "cell_type": "code",
   "execution_count": null,
   "metadata": {},
   "outputs": [],
   "source": []
  },
  {
   "cell_type": "code",
   "execution_count": null,
   "metadata": {},
   "outputs": [],
   "source": []
  }
 ],
 "metadata": {
  "language_info": {
   "name": "python"
  }
 },
 "nbformat": 4,
 "nbformat_minor": 2
}
