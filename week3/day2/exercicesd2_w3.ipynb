{
 "cells": [
  {
   "cell_type": "code",
   "execution_count": 2,
   "metadata": {},
   "outputs": [],
   "source": [
    "import numpy as np\n",
    "import pandas as pd\n",
    "import seaborn as sns\n",
    "import matplotlib.pyplot as plt"
   ]
  },
  {
   "cell_type": "markdown",
   "metadata": {},
   "source": [
    "🌟 Exercise 1 : Matrix Operations"
   ]
  },
  {
   "cell_type": "markdown",
   "metadata": {},
   "source": [
    "déterminant: c'est un nombre que l’on associe à n vecteurs (v1,...,vn) de n. Il correspond au volume du parallélépi\n",
    "pède engendré par ces n vecteurs. On peut aussi définir le déterminant d’une matrice A. Le déterminant permet de\n",
    " savoir si une matrice est inversible ou pas, et de façon plus générale, joue un rôle important dans le calcul matriciel et la résolution de systèmes linéaires."
   ]
  },
  {
   "cell_type": "markdown",
   "metadata": {},
   "source": [
    "🌟 Exercise 2 : Statistical Analysis"
   ]
  },
  {
   "cell_type": "code",
   "execution_count": 14,
   "metadata": {},
   "outputs": [
    {
     "data": {
      "text/plain": [
       "array([0.77491243, 0.21330486, 0.29405837, 0.01474564, 0.31059239,\n",
       "       0.69246587, 0.21803303, 0.72527325, 0.36441567, 0.69505111,\n",
       "       0.52116208, 0.69811397, 0.81852274, 0.80567484, 0.73478756,\n",
       "       0.1151162 , 0.47160576, 0.59449854, 0.93712019, 0.13880097,\n",
       "       0.8653149 , 0.63230576, 0.28967837, 0.03495285, 0.64360328,\n",
       "       0.43733982, 0.80131922, 0.84369515, 0.7522435 , 0.66096313,\n",
       "       0.50100884, 0.60211543, 0.68634167, 0.17296983, 0.29432416,\n",
       "       0.43032556, 0.26088521, 0.85576121, 0.60194523, 0.68969895,\n",
       "       0.75752962, 0.47847154, 0.91405304, 0.2074737 , 0.05827048,\n",
       "       0.8227328 , 0.37708085, 0.52679147, 0.99730892, 0.6920094 ])"
      ]
     },
     "execution_count": 14,
     "metadata": {},
     "output_type": "execute_result"
    }
   ],
   "source": [
    "array_5 = np.random.rand(50)\n",
    "array_5"
   ]
  },
  {
   "cell_type": "code",
   "execution_count": 17,
   "metadata": {},
   "outputs": [
    {
     "data": {
      "text/plain": [
       "array([94, 59, 24,  5, 38, 80, 98,  6, 59, 11, 26, 34, 24, 20, 10, 13, 34,\n",
       "       64, 94,  2, 49, 69, 85, 81, 15, 24, 37, 23, 45, 91,  1, 94,  1, 57,\n",
       "       89,  0, 39, 63, 87, 20, 79, 33, 70, 99, 14, 67, 10, 10, 88, 80],\n",
       "      dtype=int32)"
      ]
     },
     "execution_count": 17,
     "metadata": {},
     "output_type": "execute_result"
    }
   ],
   "source": [
    "array_50 = np.random.randint(100, size=50)\n",
    "array_50"
   ]
  },
  {
   "cell_type": "code",
   "execution_count": 21,
   "metadata": {},
   "outputs": [],
   "source": [
    "mean_array_50 = np.mean(array_50)\n",
    "median_array_50 = np.median(array_50)\n",
    "std_array_50 = np.std(array_50)\n",
    "# humidity_std = df['Humidity'].std()\n"
   ]
  },
  {
   "cell_type": "code",
   "execution_count": 20,
   "metadata": {},
   "outputs": [
    {
     "name": "stdout",
     "output_type": "stream",
     "text": [
      "Mean: 46.3\n",
      "Median: 46.3\n",
      "std:  32.393980922387414\n"
     ]
    }
   ],
   "source": [
    "print(\"Mean:\", mean_array_50)\n",
    "print(\"Median:\", mean_array_50)\n",
    "print(\"std: \", std_array_50)"
   ]
  },
  {
   "cell_type": "markdown",
   "metadata": {},
   "source": [
    "🌟 Exercise 3 : Date Manipulation"
   ]
  },
  {
   "cell_type": "markdown",
   "metadata": {},
   "source": [
    "Create a NumPy array of dates for the month of January 2023. Convert these dates to another format (e.g., YYYY/MM/DD)."
   ]
  },
  {
   "cell_type": "code",
   "execution_count": 23,
   "metadata": {},
   "outputs": [
    {
     "data": {
      "text/plain": [
       "array(['2023-01-01', '2023-01-02', '2023-01-03', '2023-01-04',\n",
       "       '2023-01-05', '2023-01-06', '2023-01-07', '2023-01-08',\n",
       "       '2023-01-09', '2023-01-10', '2023-01-11', '2023-01-12',\n",
       "       '2023-01-13', '2023-01-14', '2023-01-15', '2023-01-16',\n",
       "       '2023-01-17', '2023-01-18', '2023-01-19', '2023-01-20',\n",
       "       '2023-01-21', '2023-01-22', '2023-01-23', '2023-01-24',\n",
       "       '2023-01-25', '2023-01-26', '2023-01-27', '2023-01-28',\n",
       "       '2023-01-29', '2023-01-30', '2023-01-31', '2023-02-01',\n",
       "       '2023-02-02', '2023-02-03', '2023-02-04', '2023-02-05',\n",
       "       '2023-02-06', '2023-02-07', '2023-02-08', '2023-02-09',\n",
       "       '2023-02-10', '2023-02-11', '2023-02-12', '2023-02-13',\n",
       "       '2023-02-14', '2023-02-15', '2023-02-16', '2023-02-17',\n",
       "       '2023-02-18', '2023-02-19', '2023-02-20', '2023-02-21',\n",
       "       '2023-02-22', '2023-02-23', '2023-02-24', '2023-02-25',\n",
       "       '2023-02-26', '2023-02-27', '2023-02-28', '2023-03-01',\n",
       "       '2023-03-02', '2023-03-03', '2023-03-04', '2023-03-05',\n",
       "       '2023-03-06', '2023-03-07', '2023-03-08', '2023-03-09',\n",
       "       '2023-03-10', '2023-03-11', '2023-03-12', '2023-03-13',\n",
       "       '2023-03-14', '2023-03-15', '2023-03-16', '2023-03-17',\n",
       "       '2023-03-18', '2023-03-19', '2023-03-20', '2023-03-21',\n",
       "       '2023-03-22', '2023-03-23', '2023-03-24', '2023-03-25',\n",
       "       '2023-03-26', '2023-03-27', '2023-03-28', '2023-03-29',\n",
       "       '2023-03-30', '2023-03-31', '2023-04-01', '2023-04-02',\n",
       "       '2023-04-03', '2023-04-04', '2023-04-05', '2023-04-06',\n",
       "       '2023-04-07', '2023-04-08', '2023-04-09', '2023-04-10',\n",
       "       '2023-04-11', '2023-04-12', '2023-04-13', '2023-04-14',\n",
       "       '2023-04-15', '2023-04-16', '2023-04-17', '2023-04-18',\n",
       "       '2023-04-19', '2023-04-20', '2023-04-21', '2023-04-22',\n",
       "       '2023-04-23', '2023-04-24', '2023-04-25', '2023-04-26',\n",
       "       '2023-04-27', '2023-04-28', '2023-04-29', '2023-04-30',\n",
       "       '2023-05-01', '2023-05-02', '2023-05-03', '2023-05-04',\n",
       "       '2023-05-05', '2023-05-06', '2023-05-07', '2023-05-08',\n",
       "       '2023-05-09', '2023-05-10', '2023-05-11', '2023-05-12',\n",
       "       '2023-05-13', '2023-05-14', '2023-05-15', '2023-05-16',\n",
       "       '2023-05-17', '2023-05-18', '2023-05-19', '2023-05-20',\n",
       "       '2023-05-21', '2023-05-22', '2023-05-23', '2023-05-24',\n",
       "       '2023-05-25', '2023-05-26', '2023-05-27', '2023-05-28',\n",
       "       '2023-05-29', '2023-05-30', '2023-05-31', '2023-06-01',\n",
       "       '2023-06-02', '2023-06-03', '2023-06-04', '2023-06-05',\n",
       "       '2023-06-06', '2023-06-07', '2023-06-08', '2023-06-09',\n",
       "       '2023-06-10', '2023-06-11', '2023-06-12', '2023-06-13',\n",
       "       '2023-06-14', '2023-06-15', '2023-06-16', '2023-06-17',\n",
       "       '2023-06-18', '2023-06-19', '2023-06-20', '2023-06-21',\n",
       "       '2023-06-22', '2023-06-23', '2023-06-24', '2023-06-25',\n",
       "       '2023-06-26', '2023-06-27', '2023-06-28', '2023-06-29',\n",
       "       '2023-06-30', '2023-07-01', '2023-07-02', '2023-07-03',\n",
       "       '2023-07-04', '2023-07-05', '2023-07-06', '2023-07-07',\n",
       "       '2023-07-08', '2023-07-09', '2023-07-10', '2023-07-11',\n",
       "       '2023-07-12', '2023-07-13', '2023-07-14', '2023-07-15',\n",
       "       '2023-07-16', '2023-07-17', '2023-07-18', '2023-07-19',\n",
       "       '2023-07-20', '2023-07-21', '2023-07-22', '2023-07-23',\n",
       "       '2023-07-24', '2023-07-25', '2023-07-26', '2023-07-27',\n",
       "       '2023-07-28', '2023-07-29', '2023-07-30', '2023-07-31',\n",
       "       '2023-08-01', '2023-08-02', '2023-08-03', '2023-08-04',\n",
       "       '2023-08-05', '2023-08-06', '2023-08-07', '2023-08-08',\n",
       "       '2023-08-09', '2023-08-10', '2023-08-11', '2023-08-12',\n",
       "       '2023-08-13', '2023-08-14', '2023-08-15', '2023-08-16',\n",
       "       '2023-08-17', '2023-08-18', '2023-08-19', '2023-08-20',\n",
       "       '2023-08-21', '2023-08-22', '2023-08-23', '2023-08-24',\n",
       "       '2023-08-25', '2023-08-26', '2023-08-27', '2023-08-28',\n",
       "       '2023-08-29', '2023-08-30', '2023-08-31', '2023-09-01',\n",
       "       '2023-09-02', '2023-09-03', '2023-09-04', '2023-09-05',\n",
       "       '2023-09-06', '2023-09-07', '2023-09-08', '2023-09-09',\n",
       "       '2023-09-10', '2023-09-11', '2023-09-12', '2023-09-13',\n",
       "       '2023-09-14', '2023-09-15', '2023-09-16', '2023-09-17',\n",
       "       '2023-09-18', '2023-09-19', '2023-09-20', '2023-09-21',\n",
       "       '2023-09-22', '2023-09-23', '2023-09-24', '2023-09-25',\n",
       "       '2023-09-26', '2023-09-27', '2023-09-28', '2023-09-29',\n",
       "       '2023-09-30', '2023-10-01', '2023-10-02', '2023-10-03',\n",
       "       '2023-10-04', '2023-10-05', '2023-10-06', '2023-10-07',\n",
       "       '2023-10-08', '2023-10-09', '2023-10-10', '2023-10-11',\n",
       "       '2023-10-12', '2023-10-13', '2023-10-14', '2023-10-15',\n",
       "       '2023-10-16', '2023-10-17', '2023-10-18', '2023-10-19',\n",
       "       '2023-10-20', '2023-10-21', '2023-10-22', '2023-10-23',\n",
       "       '2023-10-24', '2023-10-25', '2023-10-26', '2023-10-27',\n",
       "       '2023-10-28', '2023-10-29', '2023-10-30', '2023-10-31',\n",
       "       '2023-11-01', '2023-11-02', '2023-11-03', '2023-11-04',\n",
       "       '2023-11-05', '2023-11-06', '2023-11-07', '2023-11-08',\n",
       "       '2023-11-09', '2023-11-10', '2023-11-11', '2023-11-12',\n",
       "       '2023-11-13', '2023-11-14', '2023-11-15', '2023-11-16',\n",
       "       '2023-11-17', '2023-11-18', '2023-11-19', '2023-11-20',\n",
       "       '2023-11-21', '2023-11-22', '2023-11-23', '2023-11-24',\n",
       "       '2023-11-25', '2023-11-26', '2023-11-27', '2023-11-28',\n",
       "       '2023-11-29', '2023-11-30', '2023-12-01', '2023-12-02',\n",
       "       '2023-12-03', '2023-12-04', '2023-12-05', '2023-12-06',\n",
       "       '2023-12-07', '2023-12-08', '2023-12-09', '2023-12-10',\n",
       "       '2023-12-11', '2023-12-12', '2023-12-13', '2023-12-14',\n",
       "       '2023-12-15', '2023-12-16', '2023-12-17', '2023-12-18',\n",
       "       '2023-12-19', '2023-12-20', '2023-12-21', '2023-12-22',\n",
       "       '2023-12-23', '2023-12-24', '2023-12-25', '2023-12-26',\n",
       "       '2023-12-27', '2023-12-28', '2023-12-29', '2023-12-30'],\n",
       "      dtype='datetime64[D]')"
      ]
     },
     "execution_count": 23,
     "metadata": {},
     "output_type": "execute_result"
    }
   ],
   "source": [
    "dates = np.arange('2023-01-01', '2023-12-31', dtype='datetime64[D]')\n",
    "dates"
   ]
  },
  {
   "cell_type": "markdown",
   "metadata": {},
   "source": [
    "🌟 Exercise 4 : Data Manipulation with NumPy and Pandas"
   ]
  },
  {
   "cell_type": "markdown",
   "metadata": {},
   "source": [
    "Create a DataFrame with random numbers and perform:--> train.csv\n",
    "\n",
    "Conditional selection of data.\n",
    "Aggregation functions like sum and average."
   ]
  },
  {
   "cell_type": "code",
   "execution_count": 70,
   "metadata": {},
   "outputs": [
    {
     "data": {
      "text/html": [
       "<div>\n",
       "<style scoped>\n",
       "    .dataframe tbody tr th:only-of-type {\n",
       "        vertical-align: middle;\n",
       "    }\n",
       "\n",
       "    .dataframe tbody tr th {\n",
       "        vertical-align: top;\n",
       "    }\n",
       "\n",
       "    .dataframe thead th {\n",
       "        text-align: right;\n",
       "    }\n",
       "</style>\n",
       "<table border=\"1\" class=\"dataframe\">\n",
       "  <thead>\n",
       "    <tr style=\"text-align: right;\">\n",
       "      <th></th>\n",
       "      <th>A</th>\n",
       "      <th>B</th>\n",
       "    </tr>\n",
       "  </thead>\n",
       "  <tbody>\n",
       "    <tr>\n",
       "      <th>0</th>\n",
       "      <td>0.944142</td>\n",
       "      <td>0.780990</td>\n",
       "    </tr>\n",
       "    <tr>\n",
       "      <th>1</th>\n",
       "      <td>0.230836</td>\n",
       "      <td>0.578677</td>\n",
       "    </tr>\n",
       "    <tr>\n",
       "      <th>2</th>\n",
       "      <td>0.134339</td>\n",
       "      <td>0.736532</td>\n",
       "    </tr>\n",
       "    <tr>\n",
       "      <th>3</th>\n",
       "      <td>0.259537</td>\n",
       "      <td>0.469917</td>\n",
       "    </tr>\n",
       "    <tr>\n",
       "      <th>4</th>\n",
       "      <td>0.597609</td>\n",
       "      <td>0.361454</td>\n",
       "    </tr>\n",
       "    <tr>\n",
       "      <th>...</th>\n",
       "      <td>...</td>\n",
       "      <td>...</td>\n",
       "    </tr>\n",
       "    <tr>\n",
       "      <th>95</th>\n",
       "      <td>0.193641</td>\n",
       "      <td>0.648574</td>\n",
       "    </tr>\n",
       "    <tr>\n",
       "      <th>96</th>\n",
       "      <td>0.034222</td>\n",
       "      <td>0.318607</td>\n",
       "    </tr>\n",
       "    <tr>\n",
       "      <th>97</th>\n",
       "      <td>0.183514</td>\n",
       "      <td>0.011195</td>\n",
       "    </tr>\n",
       "    <tr>\n",
       "      <th>98</th>\n",
       "      <td>0.095507</td>\n",
       "      <td>0.364489</td>\n",
       "    </tr>\n",
       "    <tr>\n",
       "      <th>99</th>\n",
       "      <td>0.764618</td>\n",
       "      <td>0.792540</td>\n",
       "    </tr>\n",
       "  </tbody>\n",
       "</table>\n",
       "<p>100 rows × 2 columns</p>\n",
       "</div>"
      ],
      "text/plain": [
       "           A         B\n",
       "0   0.944142  0.780990\n",
       "1   0.230836  0.578677\n",
       "2   0.134339  0.736532\n",
       "3   0.259537  0.469917\n",
       "4   0.597609  0.361454\n",
       "..       ...       ...\n",
       "95  0.193641  0.648574\n",
       "96  0.034222  0.318607\n",
       "97  0.183514  0.011195\n",
       "98  0.095507  0.364489\n",
       "99  0.764618  0.792540\n",
       "\n",
       "[100 rows x 2 columns]"
      ]
     },
     "execution_count": 70,
     "metadata": {},
     "output_type": "execute_result"
    }
   ],
   "source": [
    "df = pd.DataFrame(np.random.rand(100, 2), columns=['A','B'])\n",
    "df"
   ]
  },
  {
   "cell_type": "code",
   "execution_count": 74,
   "metadata": {},
   "outputs": [
    {
     "data": {
      "text/plain": [
       "0     0.944142\n",
       "1     0.230836\n",
       "2     0.134339\n",
       "3     0.259537\n",
       "4     0.597609\n",
       "        ...   \n",
       "95    0.193641\n",
       "96    0.034222\n",
       "97    0.183514\n",
       "98    0.095507\n",
       "99    0.764618\n",
       "Name: A, Length: 100, dtype: float64"
      ]
     },
     "execution_count": 74,
     "metadata": {},
     "output_type": "execute_result"
    }
   ],
   "source": [
    "df[\"A\"]"
   ]
  },
  {
   "cell_type": "markdown",
   "metadata": {},
   "source": [
    "select the odd number "
   ]
  },
  {
   "cell_type": "code",
   "execution_count": 79,
   "metadata": {},
   "outputs": [],
   "source": [
    "df_odd = df[df[\"A\"]>50]"
   ]
  },
  {
   "cell_type": "code",
   "execution_count": 80,
   "metadata": {},
   "outputs": [
    {
     "data": {
      "text/plain": [
       "A    45.629312\n",
       "B    47.886440\n",
       "dtype: float64"
      ]
     },
     "execution_count": 80,
     "metadata": {},
     "output_type": "execute_result"
    }
   ],
   "source": [
    "df.sum()"
   ]
  },
  {
   "cell_type": "code",
   "execution_count": 81,
   "metadata": {},
   "outputs": [],
   "source": [
    "import statistics"
   ]
  },
  {
   "cell_type": "code",
   "execution_count": 83,
   "metadata": {},
   "outputs": [
    {
     "data": {
      "text/plain": [
       "A    0.456293\n",
       "B    0.478864\n",
       "dtype: float64"
      ]
     },
     "execution_count": 83,
     "metadata": {},
     "output_type": "execute_result"
    }
   ],
   "source": [
    "df.mean()"
   ]
  },
  {
   "cell_type": "markdown",
   "metadata": {},
   "source": [
    "🌟 Exercise 5 : Image Representation"
   ]
  },
  {
   "cell_type": "markdown",
   "metadata": {},
   "source": [
    "images are represented in NumPy arrays:\n",
    "- 1D: représenation avec des lignes --> shape (4,)--> 4lignes\n",
    "- 2D: lignes et colonnes --> shape (2, 3) --> 2lignes et 3 colonnes"
   ]
  },
  {
   "cell_type": "markdown",
   "metadata": {},
   "source": [
    "🌟 Exercise 6 : Basic Hypothesis Testing"
   ]
  },
  {
   "cell_type": "markdown",
   "metadata": {},
   "source": [
    "Aide exo 6 :\n",
    "# Performing a paired t-test\n",
    "t_stat, p_value = stats.ttest_rel(?, ?)\n",
    "print(\"t-statistic:\", t_stat)\n",
    "print(\"p-value:\", p_value)"
   ]
  },
  {
   "cell_type": "code",
   "execution_count": null,
   "metadata": {},
   "outputs": [],
   "source": [
    "# Productivity scores of employees before the training program\n",
    "productivity_before = np.random.normal(loc=50, scale=10, size=30)\n",
    "\n",
    "# Productivity scores of the same employees after the training program\n",
    "productivity_after = productivity_before + np.random.normal(loc=5, scale=3, size=30)"
   ]
  },
  {
   "cell_type": "markdown",
   "metadata": {},
   "source": [
    "🌟 Exercise 7 : Complex Array Comparison"
   ]
  },
  {
   "cell_type": "code",
   "execution_count": 87,
   "metadata": {},
   "outputs": [
    {
     "data": {
      "text/plain": [
       "array([73, 23, 36, 78,  6, 92, 70, 22, 36, 99], dtype=int32)"
      ]
     },
     "execution_count": 87,
     "metadata": {},
     "output_type": "execute_result"
    }
   ],
   "source": [
    "array1 = np.random.randint(0, 100, 10)\n",
    "array1\n"
   ]
  },
  {
   "cell_type": "code",
   "execution_count": 89,
   "metadata": {},
   "outputs": [
    {
     "data": {
      "text/plain": [
       "array([23, 93,  6, 65,  9, 90, 87, 13, 22,  6], dtype=int32)"
      ]
     },
     "execution_count": 89,
     "metadata": {},
     "output_type": "execute_result"
    }
   ],
   "source": [
    "array2 = np.random.randint(0, 100, 10)\n",
    "array2"
   ]
  },
  {
   "cell_type": "code",
   "execution_count": 91,
   "metadata": {},
   "outputs": [
    {
     "name": "stdout",
     "output_type": "stream",
     "text": [
      "[ True False  True  True False  True False  True  True  True]\n"
     ]
    }
   ],
   "source": [
    "array_comparison = array1 > array2\n",
    "print(array_comparison)"
   ]
  },
  {
   "cell_type": "markdown",
   "metadata": {},
   "source": [
    "🌟 Exercise 8 : Time Series Data Manipulation"
   ]
  },
  {
   "cell_type": "markdown",
   "metadata": {},
   "source": [
    "\n",
    "a = [1, 7, 2]\n",
    "\n",
    "myvar = pd.Series(a, index = [\"x\", \"y\", \"z\"])"
   ]
  },
  {
   "cell_type": "code",
   "execution_count": null,
   "metadata": {},
   "outputs": [
    {
     "name": "stdout",
     "output_type": "stream",
     "text": [
      "Janvier à Mars :\n",
      " 2023-01-01    1.238613\n",
      "2023-01-02   -0.084988\n",
      "2023-01-03   -0.706323\n",
      "2023-01-04   -1.322745\n",
      "2023-01-05    0.102958\n",
      "                ...   \n",
      "2023-03-27   -0.312378\n",
      "2023-03-28   -1.059945\n",
      "2023-03-29    1.585692\n",
      "2023-03-30   -1.438509\n",
      "2023-03-31   -1.106823\n",
      "Freq: D, Length: 90, dtype: float64\n",
      "Avril à Juin :\n",
      " 2023-04-01   -0.307546\n",
      "2023-04-02    0.060815\n",
      "2023-04-03    1.147532\n",
      "2023-04-04    0.001773\n",
      "2023-04-05    0.055056\n",
      "                ...   \n",
      "2023-06-26    1.119354\n",
      "2023-06-27   -0.213269\n",
      "2023-06-28   -1.019216\n",
      "2023-06-29    0.974880\n",
      "2023-06-30    0.766470\n",
      "Freq: D, Length: 91, dtype: float64\n",
      "juillet à septembre :\n",
      " 2023-07-01    0.691885\n",
      "2023-07-02    1.000242\n",
      "2023-07-03    0.515746\n",
      "2023-07-04    1.607237\n",
      "2023-07-05   -2.062959\n",
      "                ...   \n",
      "2023-09-26    1.786708\n",
      "2023-09-27   -0.840186\n",
      "2023-09-28   -1.428582\n",
      "2023-09-29    0.453715\n",
      "2023-09-30    0.460103\n",
      "Freq: D, Length: 92, dtype: float64\n"
     ]
    }
   ],
   "source": [
    "dates = pd.date_range('2023-01-01', '2023-12-31', freq='D')\n",
    "data_series = pd.Series(np.random.randn(len(dates)), index=dates)\n",
    "\n",
    "print(\"Janvier à Mars :\\n\", data_series['2023-01':'2023-03'])\n",
    "print(\"Avril à Juin :\\n\", data_series['2023-04':'2023-06'])"
   ]
  },
  {
   "cell_type": "code",
   "execution_count": 94,
   "metadata": {},
   "outputs": [
    {
     "name": "stdout",
     "output_type": "stream",
     "text": [
      "juillet à septembre :\n",
      " 2023-07-01    0.691885\n",
      "2023-07-02    1.000242\n",
      "2023-07-03    0.515746\n",
      "2023-07-04    1.607237\n",
      "2023-07-05   -2.062959\n",
      "                ...   \n",
      "2023-09-26    1.786708\n",
      "2023-09-27   -0.840186\n",
      "2023-09-28   -1.428582\n",
      "2023-09-29    0.453715\n",
      "2023-09-30    0.460103\n",
      "Freq: D, Length: 92, dtype: float64\n"
     ]
    }
   ],
   "source": [
    "print(\"juillet à septembre :\\n\", data_series['2023-07':'2023-09'])"
   ]
  },
  {
   "cell_type": "code",
   "execution_count": 95,
   "metadata": {},
   "outputs": [
    {
     "name": "stdout",
     "output_type": "stream",
     "text": [
      "octobre à decembre :\n",
      " 2023-10-01   -0.355539\n",
      "2023-10-02   -2.062078\n",
      "2023-10-03   -1.426555\n",
      "2023-10-04   -0.368102\n",
      "2023-10-05    1.097782\n",
      "                ...   \n",
      "2023-12-27   -1.746230\n",
      "2023-12-28   -0.848393\n",
      "2023-12-29    2.298560\n",
      "2023-12-30    0.757774\n",
      "2023-12-31    0.635920\n",
      "Freq: D, Length: 92, dtype: float64\n"
     ]
    }
   ],
   "source": [
    "print(\"octobre à decembre :\\n\", data_series['2023-10':'2023-12'])"
   ]
  },
  {
   "cell_type": "markdown",
   "metadata": {},
   "source": [
    "🌟 Exercise 9 : Data Conversion"
   ]
  },
  {
   "cell_type": "code",
   "execution_count": null,
   "metadata": {},
   "outputs": [],
   "source": [
    "array_np = df_pd.to_numpy()"
   ]
  },
  {
   "cell_type": "markdown",
   "metadata": {},
   "source": [
    "🌟 Exercise 10 : Basic Visualization "
   ]
  },
  {
   "cell_type": "code",
   "execution_count": null,
   "metadata": {},
   "outputs": [
    {
     "data": {
      "image/png": "[encoded data removed]",
      "text/plain": [
       "<Figure size 640x480 with 1 Axes>"
      ]
     },
     "metadata": {},
     "output_type": "display_data"
    }
   ],
   "source": [
    "x = np.arange(1, 100,2)\n",
    "\n",
    "plt.plot(x,  label='sin(x)')\n",
    "plt.xlabel('X')\n",
    "plt.title('Graphique de x)\n",
    "plt.legend()\n",
    "plt.show()"
   ]
  },
  {
   "cell_type": "code",
   "execution_count": null,
   "metadata": {},
   "outputs": [],
   "source": []
  }
 ],
 "metadata": {
  "kernelspec": {
   "display_name": "Python 3",
   "language": "python",
   "name": "python3"
  },
  "language_info": {
   "codemirror_mode": {
    "name": "ipython",
    "version": 3
   },
   "file_extension": ".py",
   "mimetype": "text/x-python",
   "name": "python",
   "nbconvert_exporter": "python",
   "pygments_lexer": "ipython3",
   "version": "3.13.2"
  }
 },
 "nbformat": 4,
 "nbformat_minor": 2
}
