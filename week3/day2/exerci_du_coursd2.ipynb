{
 "cells": [
  {
   "cell_type": "code",
   "execution_count": 2,
   "metadata": {},
   "outputs": [],
   "source": [
    "import numpy as np"
   ]
  },
  {
   "cell_type": "code",
   "execution_count": 3,
   "metadata": {},
   "outputs": [
    {
     "name": "stdout",
     "output_type": "stream",
     "text": [
      "Matrix A:\n",
      " [[1 2]\n",
      " [3 4]]\n"
     ]
    }
   ],
   "source": [
    "matrix_A = np.array([[1, 2], [3, 4]])\n",
    "print(\"Matrix A:\\n\", matrix_A)"
   ]
  },
  {
   "cell_type": "code",
   "execution_count": 4,
   "metadata": {},
   "outputs": [
    {
     "name": "stdout",
     "output_type": "stream",
     "text": [
      "Reshaped Matrix:\n",
      " [[1]\n",
      " [2]\n",
      " [3]\n",
      " [4]]\n"
     ]
    }
   ],
   "source": [
    "reshaped_matrix = np.reshape(matrix_A, (4, 1))\n",
    "print(\"Reshaped Matrix:\\n\", reshaped_matrix)"
   ]
  },
  {
   "cell_type": "code",
   "execution_count": 5,
   "metadata": {},
   "outputs": [
    {
     "name": "stdout",
     "output_type": "stream",
     "text": [
      "Updated Matrix A:\n",
      " [[5 2]\n",
      " [3 4]]\n"
     ]
    }
   ],
   "source": [
    "matrix_A[0, 0] = 5\n",
    "print(\"Updated Matrix A:\\n\", matrix_A)"
   ]
  },
  {
   "cell_type": "markdown",
   "metadata": {},
   "source": [
    "Exercise: Movie Ratings Analysis"
   ]
  },
  {
   "cell_type": "code",
   "execution_count": 6,
   "metadata": {},
   "outputs": [],
   "source": [
    "movie_ratings = np.array([\n",
    "    [5, 1, 4],\n",
    "    [4, 4, 2],\n",
    "    [4, 3, 5],\n",
    "    [1, 1, 5],\n",
    "    [3, 2, 1]\n",
    "])"
   ]
  },
  {
   "cell_type": "code",
   "execution_count": 22,
   "metadata": {},
   "outputs": [],
   "source": [
    "# Calculating various statistics\n",
    "average_responses = np.mean(movie_ratings, axis=0)\n",
    "total_responses = np.sum(movie_ratings, axis=0)\n",
    "max_responses = np.max(movie_ratings, axis=0)\n",
    "min_responses = np.min(movie_ratings, axis=0)"
   ]
  },
  {
   "cell_type": "code",
   "execution_count": 23,
   "metadata": {},
   "outputs": [
    {
     "name": "stdout",
     "output_type": "stream",
     "text": [
      "Average Responses: [3.4 2.2 3.4]\n",
      "Total Responses: [17 11 17]\n",
      "Maximum Responses: [5 4 5]\n",
      "Minimum Responses: [1 1 1]\n"
     ]
    }
   ],
   "source": [
    "print(\"Average Responses:\", average_responses)\n",
    "print(\"Total Responses:\", total_responses)\n",
    "print(\"Maximum Responses:\", max_responses)\n",
    "print(\"Minimum Responses:\", min_responses)"
   ]
  },
  {
   "cell_type": "markdown",
   "metadata": {},
   "source": [
    "Exercises and Practice\n",
    "Basic Matrix Operations Exercise"
   ]
  },
  {
   "cell_type": "markdown",
   "metadata": {},
   "source": [
    "Create two 3x3 matrices in NumPy.\n",
    "Perform addition, subtraction on them.\n",
    "Expected Output: Display the results of these operations."
   ]
  },
  {
   "cell_type": "code",
   "execution_count": 25,
   "metadata": {},
   "outputs": [
    {
     "name": "stdout",
     "output_type": "stream",
     "text": [
      "Sum of Matrices:\n",
      " [[20  4]\n",
      " [12 11]]\n",
      "Difference of Matrices:\n",
      " [[-2  2]\n",
      " [ 6 -1]]\n"
     ]
    }
   ],
   "source": [
    "# Define two matrices\n",
    "matrix_B = np.array([[9, 3], [9, 5]])\n",
    "matrix_C = np.array([[11, 1], [3, 6]])\n",
    "\n",
    "# Adding and subtracting matrices\n",
    "sum_matrix = np.add(matrix_B, matrix_C)\n",
    "diff_matrix = np.subtract(matrix_B, matrix_C)\n",
    "\n",
    "print(\"Sum of Matrices:\\n\", sum_matrix)\n",
    "print(\"Difference of Matrices:\\n\", diff_matrix)"
   ]
  },
  {
   "cell_type": "code",
   "execution_count": 26,
   "metadata": {},
   "outputs": [
    {
     "name": "stdout",
     "output_type": "stream",
     "text": [
      "Product of Matrices:\n",
      " [[108  27]\n",
      " [114  39]]\n"
     ]
    }
   ],
   "source": [
    "# Multiplication of two matrices\n",
    "prod_matrix = np.dot(matrix_B, matrix_C)\n",
    "print(\"Product of Matrices:\\n\", prod_matrix)"
   ]
  },
  {
   "cell_type": "markdown",
   "metadata": {},
   "source": [
    "Calculating Variance, Skewness, and Kurtosis"
   ]
  },
  {
   "cell_type": "code",
   "execution_count": 27,
   "metadata": {},
   "outputs": [
    {
     "name": "stdout",
     "output_type": "stream",
     "text": [
      "Random Sample: [8 0 7 9 4]\n"
     ]
    }
   ],
   "source": [
    "# Random sampling from an array\n",
    "data = np.arange(10)\n",
    "sample = np.random.choice(data, size=5, replace=False)\n",
    "print(\"Random Sample:\", sample)"
   ]
  },
  {
   "cell_type": "code",
   "execution_count": 28,
   "metadata": {},
   "outputs": [
    {
     "name": "stdout",
     "output_type": "stream",
     "text": [
      "Shuffled Data: [3 0 7 1 8 9 5 4 6 2]\n"
     ]
    }
   ],
   "source": [
    "# Shuffling data\n",
    "np.random.shuffle(data)\n",
    "print(\"Shuffled Data:\", data)"
   ]
  },
  {
   "cell_type": "markdown",
   "metadata": {},
   "source": [
    " Compute Descriptive Statistics: Calculate mean, median, variance, skewness, and kurtosis of a randomly generated dataset."
   ]
  },
  {
   "cell_type": "code",
   "execution_count": null,
   "metadata": {},
   "outputs": [],
   "source": [
    "# Variance\n",
    "variance = np.var(samples)\n",
    "print(\"Variance:\", variance)\n",
    "\n",
    "# Skewness and Kurtosis require scipy\n",
    "from scipy.stats import skew, kurtosis\n",
    "print(\"Skewness:\", skew(samples))\n",
    "print(\"Kurtosis:\", kurtosis(samples))"
   ]
  },
  {
   "cell_type": "markdown",
   "metadata": {},
   "source": [
    "Exercises on Time Series Data in NumPy\n",
    "1. Data Creation Exercise:"
   ]
  },
  {
   "cell_type": "markdown",
   "metadata": {},
   "source": [
    "Objective: Create a simulated time series dataset."
   ]
  },
  {
   "cell_type": "markdown",
   "metadata": {},
   "source": [
    "Generate a date range from January 1, 2022, to December 31, 2022, with a daily frequency."
   ]
  },
  {
   "cell_type": "code",
   "execution_count": 32,
   "metadata": {},
   "outputs": [
    {
     "name": "stdout",
     "output_type": "stream",
     "text": [
      "Years 2022 Dates:\n",
      " ['2022-01-01' '2022-01-02' '2022-01-03' '2022-01-04' '2022-01-05'\n",
      " '2022-01-06' '2022-01-07' '2022-01-08' '2022-01-09' '2022-01-10'\n",
      " '2022-01-11' '2022-01-12' '2022-01-13' '2022-01-14' '2022-01-15'\n",
      " '2022-01-16' '2022-01-17' '2022-01-18' '2022-01-19' '2022-01-20'\n",
      " '2022-01-21' '2022-01-22' '2022-01-23' '2022-01-24' '2022-01-25'\n",
      " '2022-01-26' '2022-01-27' '2022-01-28' '2022-01-29' '2022-01-30'\n",
      " '2022-01-31' '2022-02-01' '2022-02-02' '2022-02-03' '2022-02-04'\n",
      " '2022-02-05' '2022-02-06' '2022-02-07' '2022-02-08' '2022-02-09'\n",
      " '2022-02-10' '2022-02-11' '2022-02-12' '2022-02-13' '2022-02-14'\n",
      " '2022-02-15' '2022-02-16' '2022-02-17' '2022-02-18' '2022-02-19'\n",
      " '2022-02-20' '2022-02-21' '2022-02-22' '2022-02-23' '2022-02-24'\n",
      " '2022-02-25' '2022-02-26' '2022-02-27' '2022-02-28' '2022-03-01'\n",
      " '2022-03-02' '2022-03-03' '2022-03-04' '2022-03-05' '2022-03-06'\n",
      " '2022-03-07' '2022-03-08' '2022-03-09' '2022-03-10' '2022-03-11'\n",
      " '2022-03-12' '2022-03-13' '2022-03-14' '2022-03-15' '2022-03-16'\n",
      " '2022-03-17' '2022-03-18' '2022-03-19' '2022-03-20' '2022-03-21'\n",
      " '2022-03-22' '2022-03-23' '2022-03-24' '2022-03-25' '2022-03-26'\n",
      " '2022-03-27' '2022-03-28' '2022-03-29' '2022-03-30' '2022-03-31'\n",
      " '2022-04-01' '2022-04-02' '2022-04-03' '2022-04-04' '2022-04-05'\n",
      " '2022-04-06' '2022-04-07' '2022-04-08' '2022-04-09' '2022-04-10'\n",
      " '2022-04-11' '2022-04-12' '2022-04-13' '2022-04-14' '2022-04-15'\n",
      " '2022-04-16' '2022-04-17' '2022-04-18' '2022-04-19' '2022-04-20'\n",
      " '2022-04-21' '2022-04-22' '2022-04-23' '2022-04-24' '2022-04-25'\n",
      " '2022-04-26' '2022-04-27' '2022-04-28' '2022-04-29' '2022-04-30'\n",
      " '2022-05-01' '2022-05-02' '2022-05-03' '2022-05-04' '2022-05-05'\n",
      " '2022-05-06' '2022-05-07' '2022-05-08' '2022-05-09' '2022-05-10'\n",
      " '2022-05-11' '2022-05-12' '2022-05-13' '2022-05-14' '2022-05-15'\n",
      " '2022-05-16' '2022-05-17' '2022-05-18' '2022-05-19' '2022-05-20'\n",
      " '2022-05-21' '2022-05-22' '2022-05-23' '2022-05-24' '2022-05-25'\n",
      " '2022-05-26' '2022-05-27' '2022-05-28' '2022-05-29' '2022-05-30'\n",
      " '2022-05-31' '2022-06-01' '2022-06-02' '2022-06-03' '2022-06-04'\n",
      " '2022-06-05' '2022-06-06' '2022-06-07' '2022-06-08' '2022-06-09'\n",
      " '2022-06-10' '2022-06-11' '2022-06-12' '2022-06-13' '2022-06-14'\n",
      " '2022-06-15' '2022-06-16' '2022-06-17' '2022-06-18' '2022-06-19'\n",
      " '2022-06-20' '2022-06-21' '2022-06-22' '2022-06-23' '2022-06-24'\n",
      " '2022-06-25' '2022-06-26' '2022-06-27' '2022-06-28' '2022-06-29'\n",
      " '2022-06-30' '2022-07-01' '2022-07-02' '2022-07-03' '2022-07-04'\n",
      " '2022-07-05' '2022-07-06' '2022-07-07' '2022-07-08' '2022-07-09'\n",
      " '2022-07-10' '2022-07-11' '2022-07-12' '2022-07-13' '2022-07-14'\n",
      " '2022-07-15' '2022-07-16' '2022-07-17' '2022-07-18' '2022-07-19'\n",
      " '2022-07-20' '2022-07-21' '2022-07-22' '2022-07-23' '2022-07-24'\n",
      " '2022-07-25' '2022-07-26' '2022-07-27' '2022-07-28' '2022-07-29'\n",
      " '2022-07-30' '2022-07-31' '2022-08-01' '2022-08-02' '2022-08-03'\n",
      " '2022-08-04' '2022-08-05' '2022-08-06' '2022-08-07' '2022-08-08'\n",
      " '2022-08-09' '2022-08-10' '2022-08-11' '2022-08-12' '2022-08-13'\n",
      " '2022-08-14' '2022-08-15' '2022-08-16' '2022-08-17' '2022-08-18'\n",
      " '2022-08-19' '2022-08-20' '2022-08-21' '2022-08-22' '2022-08-23'\n",
      " '2022-08-24' '2022-08-25' '2022-08-26' '2022-08-27' '2022-08-28'\n",
      " '2022-08-29' '2022-08-30' '2022-08-31' '2022-09-01' '2022-09-02'\n",
      " '2022-09-03' '2022-09-04' '2022-09-05' '2022-09-06' '2022-09-07'\n",
      " '2022-09-08' '2022-09-09' '2022-09-10' '2022-09-11' '2022-09-12'\n",
      " '2022-09-13' '2022-09-14' '2022-09-15' '2022-09-16' '2022-09-17'\n",
      " '2022-09-18' '2022-09-19' '2022-09-20' '2022-09-21' '2022-09-22'\n",
      " '2022-09-23' '2022-09-24' '2022-09-25' '2022-09-26' '2022-09-27'\n",
      " '2022-09-28' '2022-09-29' '2022-09-30' '2022-10-01' '2022-10-02'\n",
      " '2022-10-03' '2022-10-04' '2022-10-05' '2022-10-06' '2022-10-07'\n",
      " '2022-10-08' '2022-10-09' '2022-10-10' '2022-10-11' '2022-10-12'\n",
      " '2022-10-13' '2022-10-14' '2022-10-15' '2022-10-16' '2022-10-17'\n",
      " '2022-10-18' '2022-10-19' '2022-10-20' '2022-10-21' '2022-10-22'\n",
      " '2022-10-23' '2022-10-24' '2022-10-25' '2022-10-26' '2022-10-27'\n",
      " '2022-10-28' '2022-10-29' '2022-10-30' '2022-10-31' '2022-11-01'\n",
      " '2022-11-02' '2022-11-03' '2022-11-04' '2022-11-05' '2022-11-06'\n",
      " '2022-11-07' '2022-11-08' '2022-11-09' '2022-11-10' '2022-11-11'\n",
      " '2022-11-12' '2022-11-13' '2022-11-14' '2022-11-15' '2022-11-16'\n",
      " '2022-11-17' '2022-11-18' '2022-11-19' '2022-11-20' '2022-11-21'\n",
      " '2022-11-22' '2022-11-23' '2022-11-24' '2022-11-25' '2022-11-26'\n",
      " '2022-11-27' '2022-11-28' '2022-11-29' '2022-11-30']\n"
     ]
    }
   ],
   "source": [
    "# Creating date ranges\n",
    "dates = np.arange('2022-01', '2022-12', dtype='datetime64[D]' )\n",
    "print(\"Years 2022 Dates:\\n\", dates)"
   ]
  },
  {
   "cell_type": "markdown",
   "metadata": {},
   "source": [
    "Simulate daily temperature data for this period. Assume temperature varies between 10°C and 35°C.\n",
    "Simulate daily humidity data for the same period. Assume humidity varies between 30% and 90%.\n",
    "Structure the data into a DataFrame with columns: Date, Temperature, and Humidity."
   ]
  }
 ],
 "metadata": {
  "kernelspec": {
   "display_name": "Python 3",
   "language": "python",
   "name": "python3"
  },
  "language_info": {
   "codemirror_mode": {
    "name": "ipython",
    "version": 3
   },
   "file_extension": ".py",
   "mimetype": "text/x-python",
   "name": "python",
   "nbconvert_exporter": "python",
   "pygments_lexer": "ipython3",
   "version": "3.13.2"
  }
 },
 "nbformat": 4,
 "nbformat_minor": 2
}
