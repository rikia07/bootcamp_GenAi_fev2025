{
 "cells": [
  {
   "cell_type": "markdown",
   "metadata": {},
   "source": [
    " Exercise 1 : Array Creation and Manipulation"
   ]
  },
  {
   "cell_type": "markdown",
   "metadata": {},
   "source": [
    "Create a 1D NumPy array containing numbers from 0 to 9."
   ]
  },
  {
   "cell_type": "code",
   "execution_count": 7,
   "metadata": {},
   "outputs": [],
   "source": [
    "import numpy as np"
   ]
  },
  {
   "cell_type": "code",
   "execution_count": 10,
   "metadata": {},
   "outputs": [
    {
     "name": "stdout",
     "output_type": "stream",
     "text": [
      "array:  [1 2 3 4 5 6 7 8 9]\n"
     ]
    }
   ],
   "source": [
    "array_d1 = np.arange(1, 10)\n",
    "print(f\"array: \", array_d1)"
   ]
  },
  {
   "cell_type": "markdown",
   "metadata": {},
   "source": [
    "Exercise 2 : Type Conversion and Array Operations"
   ]
  },
  {
   "cell_type": "code",
   "execution_count": 15,
   "metadata": {},
   "outputs": [
    {
     "name": "stdout",
     "output_type": "stream",
     "text": [
      "array : [3 2 0 1 2]\n"
     ]
    }
   ],
   "source": [
    "array_list = np.array ([3.14, 2.17, 0, 1, 2], dtype = int)\n",
    "print(f\"array :\" , array_list)"
   ]
  },
  {
   "cell_type": "markdown",
   "metadata": {},
   "source": [
    "Exercise 3 : Working with Multi-Dimensional Arrays"
   ]
  },
  {
   "cell_type": "code",
   "execution_count": 19,
   "metadata": {},
   "outputs": [
    {
     "name": "stdout",
     "output_type": "stream",
     "text": [
      "[[1 2 3]\n",
      " [4 5 6]\n",
      " [7 8 9]]\n"
     ]
    }
   ],
   "source": [
    "array_2d = np.arange(1, 10).reshape(3, 3)\n",
    "print(array_2d)"
   ]
  },
  {
   "cell_type": "markdown",
   "metadata": {},
   "source": [
    "Exercise 4 : Creating Multi-Dimensional Array with Random Numbers"
   ]
  },
  {
   "cell_type": "markdown",
   "metadata": {},
   "source": [
    "Create a 2D NumPy array of shape (4, 5) filled with random numbers."
   ]
  },
  {
   "cell_type": "code",
   "execution_count": 25,
   "metadata": {},
   "outputs": [
    {
     "name": "stdout",
     "output_type": "stream",
     "text": [
      "array:  [[0.13327592 0.59636129 0.08765378 0.401264   0.02660934]\n",
      " [0.4109426  0.16573366 0.77077314 0.61789687 0.7526605 ]\n",
      " [0.82663026 0.68885499 0.52033899 0.04222285 0.94638669]\n",
      " [0.4273192  0.30747613 0.77884667 0.10238691 0.6629574 ]]\n"
     ]
    }
   ],
   "source": [
    "array_D2 = np.random.rand(4, 5)\n",
    "print(f\"array: \", array_D2)"
   ]
  },
  {
   "cell_type": "markdown",
   "metadata": {},
   "source": [
    "Exercise 5 : Indexing Arrays"
   ]
  },
  {
   "cell_type": "code",
   "execution_count": 29,
   "metadata": {},
   "outputs": [
    {
     "name": "stdout",
     "output_type": "stream",
     "text": [
      "[20 21 22 23 24]\n"
     ]
    }
   ],
   "source": [
    "array = np.array([[21,22,23,22,22],[20, 21, 22, 23, 24],[21,22,23,22,22]])\n",
    "print(array[1])"
   ]
  },
  {
   "cell_type": "markdown",
   "metadata": {},
   "source": [
    "Exercise 6 : Reversing elements"
   ]
  },
  {
   "cell_type": "markdown",
   "metadata": {},
   "source": [
    "Reverse the order of elements in a given 1D NumPy array (first element becomes last)."
   ]
  },
  {
   "cell_type": "code",
   "execution_count": 32,
   "metadata": {},
   "outputs": [
    {
     "name": "stdout",
     "output_type": "stream",
     "text": [
      "array:  [9 8 7 6 5 4 3 2 1 0]\n"
     ]
    }
   ],
   "source": [
    "array = np.array([0, 1, 2, 3, 4, 5, 6, 7, 8, 9])\n",
    "reversed_array = array[::-1]\n",
    "print(f\"array: \", reversed_array)"
   ]
  },
  {
   "cell_type": "markdown",
   "metadata": {},
   "source": [
    "Exercise 7 : Identity Matrix"
   ]
  },
  {
   "cell_type": "markdown",
   "metadata": {},
   "source": [
    "Create a 4x4 identity matrix using NumPy."
   ]
  },
  {
   "cell_type": "code",
   "execution_count": 34,
   "metadata": {},
   "outputs": [
    {
     "name": "stdout",
     "output_type": "stream",
     "text": [
      "[[1. 0. 0. 0.]\n",
      " [0. 1. 0. 0.]\n",
      " [0. 0. 1. 0.]\n",
      " [0. 0. 0. 1.]]\n"
     ]
    }
   ],
   "source": [
    "array_matrix = np.eye(4)\n",
    "print(array_matrix)"
   ]
  },
  {
   "cell_type": "markdown",
   "metadata": {},
   "source": [
    "Exercise 8 : Simple Aggregate Funcs"
   ]
  },
  {
   "cell_type": "markdown",
   "metadata": {},
   "source": [
    "Find the sum and average of a given 1D array."
   ]
  },
  {
   "cell_type": "code",
   "execution_count": 39,
   "metadata": {},
   "outputs": [],
   "source": [
    "array = np.array([10, 20, 30, 40, 50])\n",
    "sum_array = np.sum(array)"
   ]
  },
  {
   "cell_type": "code",
   "execution_count": 42,
   "metadata": {},
   "outputs": [
    {
     "name": "stdout",
     "output_type": "stream",
     "text": [
      "Sum:  150\n"
     ]
    }
   ],
   "source": [
    "print(f\"Sum: \" , sum_array)"
   ]
  },
  {
   "cell_type": "code",
   "execution_count": 43,
   "metadata": {},
   "outputs": [
    {
     "name": "stdout",
     "output_type": "stream",
     "text": [
      "Average:  30.0\n"
     ]
    }
   ],
   "source": [
    "avg_array = np.mean(array)\n",
    "print(f\"Average: \" , avg_array)"
   ]
  },
  {
   "cell_type": "markdown",
   "metadata": {},
   "source": [
    "Exercise 9 : Create Array and Change its Structure"
   ]
  },
  {
   "cell_type": "markdown",
   "metadata": {},
   "source": [
    "Create a NumPy array with elements from 1 to 20; then reshape it into a 4x5 matrix."
   ]
  },
  {
   "cell_type": "code",
   "execution_count": 45,
   "metadata": {},
   "outputs": [
    {
     "name": "stdout",
     "output_type": "stream",
     "text": [
      " array :  [[ 1  2  3  4  5]\n",
      " [ 6  7  8  9 10]\n",
      " [11 12 13 14 15]\n",
      " [16 17 18 19 20]]\n"
     ]
    }
   ],
   "source": [
    "array_20 = np.arange(1, 21).reshape(4,5)\n",
    "print(\" array : \", array_20)"
   ]
  },
  {
   "cell_type": "markdown",
   "metadata": {},
   "source": [
    "🌟 Exercise 10 : Conditional Selection of Values"
   ]
  },
  {
   "cell_type": "markdown",
   "metadata": {},
   "source": [
    "Extract all odd numbers from a given NumPy array."
   ]
  },
  {
   "cell_type": "code",
   "execution_count": 46,
   "metadata": {},
   "outputs": [
    {
     "name": "stdout",
     "output_type": "stream",
     "text": [
      "[ 1  2  3  4  5  6  7  8  9 10]\n"
     ]
    }
   ],
   "source": [
    "array_10 = np.arange(1,11)\n",
    "print(array_10)"
   ]
  },
  {
   "cell_type": "code",
   "execution_count": 49,
   "metadata": {},
   "outputs": [
    {
     "name": "stdout",
     "output_type": "stream",
     "text": [
      "odd number is :  [1 3 5 7 9]\n"
     ]
    }
   ],
   "source": [
    "array_odd_number  = array_10 [array_10 %2 != 0]\n",
    "print(\"odd number is : \", array_odd_number)"
   ]
  }
 ],
 "metadata": {
  "kernelspec": {
   "display_name": "Python 3",
   "language": "python",
   "name": "python3"
  },
  "language_info": {
   "codemirror_mode": {
    "name": "ipython",
    "version": 3
   },
   "file_extension": ".py",
   "mimetype": "text/x-python",
   "name": "python",
   "nbconvert_exporter": "python",
   "pygments_lexer": "ipython3",
   "version": "3.13.2"
  }
 },
 "nbformat": 4,
 "nbformat_minor": 2
}
