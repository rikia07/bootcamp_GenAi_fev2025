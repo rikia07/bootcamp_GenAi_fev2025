{
 "cells": [
  {
   "cell_type": "markdown",
   "metadata": {},
   "source": [
    "Author : Clara Martinez"
   ]
  },
  {
   "cell_type": "markdown",
   "metadata": {},
   "source": [
    "**Exercice : Understanding Numpy Arrays**"
   ]
  },
  {
   "cell_type": "markdown",
   "metadata": {},
   "source": [
    "Partie 1"
   ]
  },
  {
   "cell_type": "code",
   "execution_count": 1,
   "metadata": {},
   "outputs": [],
   "source": [
    "import numpy as np"
   ]
  },
  {
   "cell_type": "code",
   "execution_count": 2,
   "metadata": {},
   "outputs": [
    {
     "data": {
      "text/plain": [
       "'1.26.0'"
      ]
     },
     "execution_count": 2,
     "metadata": {},
     "output_type": "execute_result"
    }
   ],
   "source": [
    "np.__version__"
   ]
  },
  {
   "cell_type": "code",
   "execution_count": null,
   "metadata": {},
   "outputs": [],
   "source": [
    "array_1d = np.arange(1, 6)  # 1D array from 1 to 5\n",
    "array_2d = np.arange(1, 7).reshape(2, 3)  # 2D array from 1 to 6 reshaped to (2,3)"
   ]
  },
  {
   "cell_type": "code",
   "execution_count": 4,
   "metadata": {},
   "outputs": [
    {
     "data": {
      "text/plain": [
       "array([1, 2, 3, 4, 5])"
      ]
     },
     "execution_count": 4,
     "metadata": {},
     "output_type": "execute_result"
    }
   ],
   "source": [
    "array_1d"
   ]
  },
  {
   "cell_type": "code",
   "execution_count": 5,
   "metadata": {},
   "outputs": [
    {
     "data": {
      "text/plain": [
       "array([[1, 2, 3],\n",
       "       [4, 5, 6]])"
      ]
     },
     "execution_count": 5,
     "metadata": {},
     "output_type": "execute_result"
    }
   ],
   "source": [
    "array_2d"
   ]
  },
  {
   "cell_type": "code",
   "execution_count": 7,
   "metadata": {},
   "outputs": [
    {
     "name": "stdout",
     "output_type": "stream",
     "text": [
      "Shape: (5,) Size: 5 Data Type: int32\n"
     ]
    }
   ],
   "source": [
    "print(\"Shape:\", array_1d.shape, \"Size:\", array_1d.size, \"Data Type:\", array_1d.dtype)"
   ]
  },
  {
   "cell_type": "code",
   "execution_count": 8,
   "metadata": {},
   "outputs": [
    {
     "name": "stdout",
     "output_type": "stream",
     "text": [
      "Shape: (2, 3) Size: 6 Data Type: int32\n"
     ]
    }
   ],
   "source": [
    "print(\"Shape:\", array_2d.shape, \"Size:\", array_2d.size, \"Data Type:\", array_2d.dtype)"
   ]
  },
  {
   "cell_type": "code",
   "execution_count": 9,
   "metadata": {},
   "outputs": [],
   "source": [
    "array_float = np.array([1, 2, 3], dtype=float)"
   ]
  },
  {
   "cell_type": "code",
   "execution_count": 10,
   "metadata": {},
   "outputs": [
    {
     "data": {
      "text/plain": [
       "array([1., 2., 3.])"
      ]
     },
     "execution_count": 10,
     "metadata": {},
     "output_type": "execute_result"
    }
   ],
   "source": [
    "array_float"
   ]
  },
  {
   "cell_type": "code",
   "execution_count": 11,
   "metadata": {},
   "outputs": [
    {
     "data": {
      "text/plain": [
       "dtype('float64')"
      ]
     },
     "execution_count": 11,
     "metadata": {},
     "output_type": "execute_result"
    }
   ],
   "source": [
    "array_float.dtype"
   ]
  },
  {
   "cell_type": "markdown",
   "metadata": {},
   "source": [
    "Partie 2"
   ]
  },
  {
   "cell_type": "code",
   "execution_count": 15,
   "metadata": {},
   "outputs": [],
   "source": [
    "temperature = np.array([10,8,7,11,12,13,15])"
   ]
  },
  {
   "cell_type": "code",
   "execution_count": 16,
   "metadata": {},
   "outputs": [
    {
     "data": {
      "text/plain": [
       "array([10,  8,  7, 11, 12, 13, 15])"
      ]
     },
     "execution_count": 16,
     "metadata": {},
     "output_type": "execute_result"
    }
   ],
   "source": [
    "temperature"
   ]
  },
  {
   "cell_type": "code",
   "execution_count": 14,
   "metadata": {},
   "outputs": [],
   "source": [
    "array_2d = np.array([[3, 7, 1, 9, 6], \n",
    "                      [5, 8, 2, 4, 10]])"
   ]
  },
  {
   "cell_type": "code",
   "execution_count": 17,
   "metadata": {},
   "outputs": [
    {
     "data": {
      "text/plain": [
       "array([[ 3,  7,  1,  9,  6],\n",
       "       [ 5,  8,  2,  4, 10]])"
      ]
     },
     "execution_count": 17,
     "metadata": {},
     "output_type": "execute_result"
    }
   ],
   "source": [
    "array_2d"
   ]
  },
  {
   "cell_type": "code",
   "execution_count": 23,
   "metadata": {},
   "outputs": [],
   "source": [
    "array_2d = np.random.randint(1, 11, size=(2, 5))"
   ]
  },
  {
   "cell_type": "code",
   "execution_count": 24,
   "metadata": {},
   "outputs": [
    {
     "data": {
      "text/plain": [
       "array([[ 2,  8,  9,  4,  4],\n",
       "       [ 5, 10,  6,  1,  4]])"
      ]
     },
     "execution_count": 24,
     "metadata": {},
     "output_type": "execute_result"
    }
   ],
   "source": [
    "array_2d"
   ]
  },
  {
   "cell_type": "markdown",
   "metadata": {},
   "source": [
    "Exemple image en couleur 3D"
   ]
  },
  {
   "cell_type": "markdown",
   "metadata": {},
   "source": [
    "Les valeurs des pixels dans une image en niveaux de gris ou en couleur RVB (Rouge, Vert, Bleu) vont généralement de 0 à 255.\n",
    "\n",
    "0 = Noir (absence de lumière)\n",
    "\n",
    "255 = Blanc (lumière maximale)\n",
    "\n",
    "Entre 0 et 255 = différentes intensités de couleur"
   ]
  },
  {
   "cell_type": "markdown",
   "metadata": {},
   "source": [
    "En couleurs, un pixel est représenté par trois valeurs (R, V, B) allant de 0 à 255"
   ]
  },
  {
   "cell_type": "code",
   "execution_count": 33,
   "metadata": {},
   "outputs": [
    {
     "name": "stdout",
     "output_type": "stream",
     "text": [
      "Pixel RGB: [255   0   0]\n"
     ]
    }
   ],
   "source": [
    "pixel_r = np.array([255, 0, 0], dtype=np.uint8)  # Rouge pur\n",
    "print(\"Pixel RGB:\", pixel_r)"
   ]
  },
  {
   "cell_type": "code",
   "execution_count": 34,
   "metadata": {},
   "outputs": [
    {
     "name": "stdout",
     "output_type": "stream",
     "text": [
      "Pixel RGB: [  0 250   0]\n"
     ]
    }
   ],
   "source": [
    "pixel_v = np.array([0, 250, 0], dtype=np.uint8)  # Vert pur\n",
    "print(\"Pixel RGB:\", pixel_v)"
   ]
  },
  {
   "cell_type": "code",
   "execution_count": 26,
   "metadata": {},
   "outputs": [],
   "source": [
    "image_3d = np.array([\n",
    "    [[255, 0, 0], [0, 255, 0], [0, 0, 255]],  # Ligne 1 (Rouge, Vert, Bleu)\n",
    "    [[255, 255, 0], [0, 255, 255], [255, 0, 255]],  # Ligne 2 (Jaune, Cyan, Magenta)\n",
    "    [[100, 100, 100], [200, 200, 200], [50, 50, 50]]  # Niveaux de gris\n",
    "], dtype=np.uint8)"
   ]
  },
  {
   "cell_type": "code",
   "execution_count": 27,
   "metadata": {},
   "outputs": [
    {
     "data": {
      "text/plain": [
       "array([[[255,   0,   0],\n",
       "        [  0, 255,   0],\n",
       "        [  0,   0, 255]],\n",
       "\n",
       "       [[255, 255,   0],\n",
       "        [  0, 255, 255],\n",
       "        [255,   0, 255]],\n",
       "\n",
       "       [[100, 100, 100],\n",
       "        [200, 200, 200],\n",
       "        [ 50,  50,  50]]], dtype=uint8)"
      ]
     },
     "execution_count": 27,
     "metadata": {},
     "output_type": "execute_result"
    }
   ],
   "source": [
    "image_3d"
   ]
  },
  {
   "cell_type": "code",
   "execution_count": 35,
   "metadata": {},
   "outputs": [
    {
     "name": "stdout",
     "output_type": "stream",
     "text": [
      "Original Array: [1 2 3]\n",
      "After Adding 5: [6 7 8]\n"
     ]
    }
   ],
   "source": [
    "import numpy as np\n",
    "\n",
    "# Creating a 1D array\n",
    "a = np.array([1, 2, 3])\n",
    "\n",
    "# Adding a scalar value to the array\n",
    "result = a + 5\n",
    "\n",
    "print(\"Original Array:\", a)\n",
    "print(\"After Adding 5:\", result)"
   ]
  },
  {
   "cell_type": "code",
   "execution_count": 37,
   "metadata": {},
   "outputs": [],
   "source": [
    "import numpy as np\n",
    "\n",
    "# Creating a 1D array and a 2D array\n",
    "a = np.array([0, 1, 2])\n",
    "b = np.array([[0, 1, 2], [3, 4, 5]])\n",
    "\n",
    "# Adding the 1D array to each row of the 2D array\n",
    "result = a + b"
   ]
  },
  {
   "cell_type": "code",
   "execution_count": 38,
   "metadata": {},
   "outputs": [
    {
     "data": {
      "text/plain": [
       "array([0, 1, 2])"
      ]
     },
     "execution_count": 38,
     "metadata": {},
     "output_type": "execute_result"
    }
   ],
   "source": [
    "a"
   ]
  },
  {
   "cell_type": "code",
   "execution_count": 39,
   "metadata": {},
   "outputs": [
    {
     "data": {
      "text/plain": [
       "array([[0, 1, 2],\n",
       "       [3, 4, 5]])"
      ]
     },
     "execution_count": 39,
     "metadata": {},
     "output_type": "execute_result"
    }
   ],
   "source": [
    "b"
   ]
  },
  {
   "cell_type": "code",
   "execution_count": 40,
   "metadata": {},
   "outputs": [
    {
     "data": {
      "text/plain": [
       "array([[0, 2, 4],\n",
       "       [3, 5, 7]])"
      ]
     },
     "execution_count": 40,
     "metadata": {},
     "output_type": "execute_result"
    }
   ],
   "source": [
    "result"
   ]
  },
  {
   "cell_type": "code",
   "execution_count": 41,
   "metadata": {},
   "outputs": [],
   "source": [
    "import numpy as np\n",
    "\n",
    "# Creating two arrays\n",
    "a = np.array([[1], [2], [3]])\n",
    "b = np.array([1, 2, 3])\n",
    "\n",
    "# Adding the two arrays\n",
    "result = a + b\n"
   ]
  },
  {
   "cell_type": "code",
   "execution_count": 42,
   "metadata": {},
   "outputs": [
    {
     "data": {
      "text/plain": [
       "array([[1],\n",
       "       [2],\n",
       "       [3]])"
      ]
     },
     "execution_count": 42,
     "metadata": {},
     "output_type": "execute_result"
    }
   ],
   "source": [
    "a"
   ]
  },
  {
   "cell_type": "code",
   "execution_count": 43,
   "metadata": {},
   "outputs": [
    {
     "data": {
      "text/plain": [
       "array([1, 2, 3])"
      ]
     },
     "execution_count": 43,
     "metadata": {},
     "output_type": "execute_result"
    }
   ],
   "source": [
    "b"
   ]
  },
  {
   "cell_type": "code",
   "execution_count": 44,
   "metadata": {},
   "outputs": [
    {
     "data": {
      "text/plain": [
       "array([[2, 3, 4],\n",
       "       [3, 4, 5],\n",
       "       [4, 5, 6]])"
      ]
     },
     "execution_count": 44,
     "metadata": {},
     "output_type": "execute_result"
    }
   ],
   "source": [
    "result"
   ]
  },
  {
   "cell_type": "code",
   "execution_count": 45,
   "metadata": {},
   "outputs": [],
   "source": [
    "# Creating a 2D array and a 1D array\n",
    "a = np.array([[1, 2, 3], [4, 5, 6]])\n",
    "b = np.array([1, 2, 3])\n",
    "\n",
    "# Element-wise multiplication\n",
    "result = a * b"
   ]
  },
  {
   "cell_type": "code",
   "execution_count": 46,
   "metadata": {},
   "outputs": [
    {
     "data": {
      "text/plain": [
       "array([[1, 2, 3],\n",
       "       [4, 5, 6]])"
      ]
     },
     "execution_count": 46,
     "metadata": {},
     "output_type": "execute_result"
    }
   ],
   "source": [
    "a"
   ]
  },
  {
   "cell_type": "code",
   "execution_count": 47,
   "metadata": {},
   "outputs": [
    {
     "data": {
      "text/plain": [
       "array([1, 2, 3])"
      ]
     },
     "execution_count": 47,
     "metadata": {},
     "output_type": "execute_result"
    }
   ],
   "source": [
    "b"
   ]
  },
  {
   "cell_type": "code",
   "execution_count": 48,
   "metadata": {},
   "outputs": [
    {
     "data": {
      "text/plain": [
       "array([[ 1,  4,  9],\n",
       "       [ 4, 10, 18]])"
      ]
     },
     "execution_count": 48,
     "metadata": {},
     "output_type": "execute_result"
    }
   ],
   "source": [
    "result"
   ]
  },
  {
   "cell_type": "code",
   "execution_count": 49,
   "metadata": {},
   "outputs": [],
   "source": [
    "array = np.arange(1, 10)  # Array of numbers from 1 to 9"
   ]
  },
  {
   "cell_type": "code",
   "execution_count": 50,
   "metadata": {},
   "outputs": [
    {
     "data": {
      "text/plain": [
       "array([1, 2, 3, 4, 5, 6, 7, 8, 9])"
      ]
     },
     "execution_count": 50,
     "metadata": {},
     "output_type": "execute_result"
    }
   ],
   "source": [
    "array"
   ]
  },
  {
   "cell_type": "code",
   "execution_count": 51,
   "metadata": {},
   "outputs": [],
   "source": [
    "reshaped_array = array.reshape(3, 3)"
   ]
  },
  {
   "cell_type": "code",
   "execution_count": 52,
   "metadata": {},
   "outputs": [
    {
     "data": {
      "text/plain": [
       "array([[1, 2, 3],\n",
       "       [4, 5, 6],\n",
       "       [7, 8, 9]])"
      ]
     },
     "execution_count": 52,
     "metadata": {},
     "output_type": "execute_result"
    }
   ],
   "source": [
    "reshaped_array"
   ]
  },
  {
   "cell_type": "code",
   "execution_count": 53,
   "metadata": {},
   "outputs": [],
   "source": [
    "data = np.arange(1, 101)"
   ]
  },
  {
   "cell_type": "code",
   "execution_count": 54,
   "metadata": {},
   "outputs": [
    {
     "data": {
      "text/plain": [
       "array([  1,   2,   3,   4,   5,   6,   7,   8,   9,  10,  11,  12,  13,\n",
       "        14,  15,  16,  17,  18,  19,  20,  21,  22,  23,  24,  25,  26,\n",
       "        27,  28,  29,  30,  31,  32,  33,  34,  35,  36,  37,  38,  39,\n",
       "        40,  41,  42,  43,  44,  45,  46,  47,  48,  49,  50,  51,  52,\n",
       "        53,  54,  55,  56,  57,  58,  59,  60,  61,  62,  63,  64,  65,\n",
       "        66,  67,  68,  69,  70,  71,  72,  73,  74,  75,  76,  77,  78,\n",
       "        79,  80,  81,  82,  83,  84,  85,  86,  87,  88,  89,  90,  91,\n",
       "        92,  93,  94,  95,  96,  97,  98,  99, 100])"
      ]
     },
     "execution_count": 54,
     "metadata": {},
     "output_type": "execute_result"
    }
   ],
   "source": [
    "data"
   ]
  },
  {
   "cell_type": "code",
   "execution_count": 55,
   "metadata": {},
   "outputs": [],
   "source": [
    "data = np.arange(1, 101).reshape(20, 5)  # 20 samples, 5 features each"
   ]
  },
  {
   "cell_type": "code",
   "execution_count": 56,
   "metadata": {},
   "outputs": [
    {
     "data": {
      "text/plain": [
       "array([[  1,   2,   3,   4,   5],\n",
       "       [  6,   7,   8,   9,  10],\n",
       "       [ 11,  12,  13,  14,  15],\n",
       "       [ 16,  17,  18,  19,  20],\n",
       "       [ 21,  22,  23,  24,  25],\n",
       "       [ 26,  27,  28,  29,  30],\n",
       "       [ 31,  32,  33,  34,  35],\n",
       "       [ 36,  37,  38,  39,  40],\n",
       "       [ 41,  42,  43,  44,  45],\n",
       "       [ 46,  47,  48,  49,  50],\n",
       "       [ 51,  52,  53,  54,  55],\n",
       "       [ 56,  57,  58,  59,  60],\n",
       "       [ 61,  62,  63,  64,  65],\n",
       "       [ 66,  67,  68,  69,  70],\n",
       "       [ 71,  72,  73,  74,  75],\n",
       "       [ 76,  77,  78,  79,  80],\n",
       "       [ 81,  82,  83,  84,  85],\n",
       "       [ 86,  87,  88,  89,  90],\n",
       "       [ 91,  92,  93,  94,  95],\n",
       "       [ 96,  97,  98,  99, 100]])"
      ]
     },
     "execution_count": 56,
     "metadata": {},
     "output_type": "execute_result"
    }
   ],
   "source": [
    "data"
   ]
  },
  {
   "cell_type": "code",
   "execution_count": 57,
   "metadata": {},
   "outputs": [],
   "source": [
    "A = np.array([[1, 2], [3, 4]])\n",
    "B = np.array([5, 6])"
   ]
  },
  {
   "cell_type": "code",
   "execution_count": 58,
   "metadata": {},
   "outputs": [
    {
     "data": {
      "text/plain": [
       "array([[1, 2],\n",
       "       [3, 4]])"
      ]
     },
     "execution_count": 58,
     "metadata": {},
     "output_type": "execute_result"
    }
   ],
   "source": [
    "A"
   ]
  },
  {
   "cell_type": "code",
   "execution_count": 59,
   "metadata": {},
   "outputs": [
    {
     "data": {
      "text/plain": [
       "array([5, 6])"
      ]
     },
     "execution_count": 59,
     "metadata": {},
     "output_type": "execute_result"
    }
   ],
   "source": [
    "B"
   ]
  },
  {
   "cell_type": "code",
   "execution_count": 60,
   "metadata": {},
   "outputs": [
    {
     "data": {
      "text/plain": [
       "array([17, 39])"
      ]
     },
     "execution_count": 60,
     "metadata": {},
     "output_type": "execute_result"
    }
   ],
   "source": [
    "product = A.dot(B.transpose())  # Transposing B to make multiplication possible\n",
    "product"
   ]
  },
  {
   "cell_type": "markdown",
   "metadata": {},
   "source": [
    "Exercice Reshape"
   ]
  },
  {
   "cell_type": "code",
   "execution_count": 71,
   "metadata": {},
   "outputs": [],
   "source": [
    "array_1d = np.array([1, 2, 3, 4, 5, 6, 7, 8, 9, 10, 11, 12])"
   ]
  },
  {
   "cell_type": "code",
   "execution_count": 87,
   "metadata": {},
   "outputs": [
    {
     "data": {
      "text/plain": [
       "array([ 1,  2,  3,  4,  5,  6,  7,  8,  9, 10, 11, 12])"
      ]
     },
     "execution_count": 87,
     "metadata": {},
     "output_type": "execute_result"
    }
   ],
   "source": [
    "array_1d"
   ]
  },
  {
   "cell_type": "code",
   "execution_count": 73,
   "metadata": {},
   "outputs": [],
   "source": [
    "mat_4x3 = array_1d.reshape(4, 3)"
   ]
  },
  {
   "cell_type": "code",
   "execution_count": 74,
   "metadata": {},
   "outputs": [
    {
     "data": {
      "text/plain": [
       "array([[ 1,  2,  3],\n",
       "       [ 4,  5,  6],\n",
       "       [ 7,  8,  9],\n",
       "       [10, 11, 12]])"
      ]
     },
     "execution_count": 74,
     "metadata": {},
     "output_type": "execute_result"
    }
   ],
   "source": [
    "mat_4x3"
   ]
  },
  {
   "cell_type": "code",
   "execution_count": 76,
   "metadata": {},
   "outputs": [
    {
     "data": {
      "text/plain": [
       "array([[ 1,  2,  3,  4,  5,  6],\n",
       "       [ 7,  8,  9, 10, 11, 12]])"
      ]
     },
     "execution_count": 76,
     "metadata": {},
     "output_type": "execute_result"
    }
   ],
   "source": [
    "mat_2x6 = array_1d.reshape(2, 6)\n",
    "mat_2x6"
   ]
  },
  {
   "cell_type": "code",
   "execution_count": 78,
   "metadata": {},
   "outputs": [
    {
     "data": {
      "text/plain": [
       "array([[ 1,  7],\n",
       "       [ 2,  8],\n",
       "       [ 3,  9],\n",
       "       [ 4, 10],\n",
       "       [ 5, 11],\n",
       "       [ 6, 12]])"
      ]
     },
     "execution_count": 78,
     "metadata": {},
     "output_type": "execute_result"
    }
   ],
   "source": [
    "transposed_matrix = mat_2x6.T\n",
    "transposed_matrix"
   ]
  },
  {
   "cell_type": "code",
   "execution_count": 79,
   "metadata": {},
   "outputs": [
    {
     "data": {
      "text/plain": [
       "array([[ 1,  2,  3,  4],\n",
       "       [ 5,  6,  7,  8],\n",
       "       [ 9, 10, 11, 12]])"
      ]
     },
     "execution_count": 79,
     "metadata": {},
     "output_type": "execute_result"
    }
   ],
   "source": [
    "mat_3x4 = array_1d.reshape(3, 4)\n",
    "mat_3x4"
   ]
  },
  {
   "cell_type": "code",
   "execution_count": 81,
   "metadata": {},
   "outputs": [],
   "source": [
    "transposed_3x4 = mat_3x4.T"
   ]
  },
  {
   "cell_type": "code",
   "execution_count": 82,
   "metadata": {},
   "outputs": [
    {
     "data": {
      "text/plain": [
       "array([[ 1,  5,  9],\n",
       "       [ 2,  6, 10],\n",
       "       [ 3,  7, 11],\n",
       "       [ 4,  8, 12]])"
      ]
     },
     "execution_count": 82,
     "metadata": {},
     "output_type": "execute_result"
    }
   ],
   "source": [
    "transposed_3x4"
   ]
  },
  {
   "cell_type": "code",
   "execution_count": 83,
   "metadata": {},
   "outputs": [],
   "source": [
    "reshaped_1d = transposed_3x4.reshape(-1)"
   ]
  },
  {
   "cell_type": "code",
   "execution_count": 84,
   "metadata": {},
   "outputs": [
    {
     "data": {
      "text/plain": [
       "array([ 1,  5,  9,  2,  6, 10,  3,  7, 11,  4,  8, 12])"
      ]
     },
     "execution_count": 84,
     "metadata": {},
     "output_type": "execute_result"
    }
   ],
   "source": [
    "reshaped_1d"
   ]
  },
  {
   "cell_type": "markdown",
   "metadata": {},
   "source": [
    "Pour aller plus loin :"
   ]
  },
  {
   "cell_type": "code",
   "execution_count": 85,
   "metadata": {},
   "outputs": [],
   "source": [
    "time_series_data = np.random.rand(365)"
   ]
  },
  {
   "cell_type": "code",
   "execution_count": 89,
   "metadata": {},
   "outputs": [
    {
     "data": {
      "text/plain": [
       "array([0.75637706, 0.79504935, 0.92257737, 0.23717417, 0.21993371,\n",
       "       0.67140579, 0.6225116 , 0.0330695 , 0.66824393, 0.49871054,\n",
       "       0.00530537, 0.17093216, 0.60303671, 0.77950028, 0.0592037 ,\n",
       "       0.56858167, 0.56536189, 0.48836865, 0.25519315, 0.0925107 ,\n",
       "       0.92526808, 0.50299137, 0.23042339, 0.36743045, 0.68482297,\n",
       "       0.17261938, 0.67441919, 0.40899128, 0.22471677, 0.345311  ,\n",
       "       0.20612427, 0.30103843, 0.20425812, 0.86955441, 0.65167648,\n",
       "       0.74937068, 0.5292947 , 0.19741752, 0.21715391, 0.51716015,\n",
       "       0.99384288, 0.33776091, 0.19292088, 0.18895118, 0.87505731,\n",
       "       0.22236077, 0.65742283, 0.96114204, 0.49070195, 0.16242575,\n",
       "       0.55891428, 0.30706381, 0.15121433, 0.85981403, 0.63942742,\n",
       "       0.00607514, 0.46963865, 0.54790207, 0.90135583, 0.586136  ,\n",
       "       0.38820953, 0.36614695, 0.31108218, 0.06731646, 0.17056446,\n",
       "       0.68348264, 0.47221567, 0.77348362, 0.22273535, 0.10601297,\n",
       "       0.14578412, 0.43886613, 0.73340355, 0.27648053, 0.7491473 ,\n",
       "       0.86425167, 0.76974708, 0.17009661, 0.72779328, 0.5401908 ,\n",
       "       0.46051261, 0.47118262, 0.42262998, 0.00546069, 0.38750131,\n",
       "       0.82158841, 0.7064991 , 0.03096334, 0.65343107, 0.87276883,\n",
       "       0.8070872 , 0.98171187, 0.526136  , 0.44110316, 0.0554818 ,\n",
       "       0.00269464, 0.82359142, 0.05936172, 0.80242015, 0.25195956,\n",
       "       0.23062025, 0.44613876, 0.90334124, 0.32335984, 0.00677735,\n",
       "       0.52250366, 0.20434853, 0.85052808, 0.84080209, 0.25838429,\n",
       "       0.61841706, 0.70386868, 0.28946869, 0.61858207, 0.65695668,\n",
       "       0.82282015, 0.44459848, 0.36447789, 0.98553593, 0.881103  ,\n",
       "       0.07971312, 0.51931928, 0.27982621, 0.93889153, 0.0164579 ,\n",
       "       0.50569551, 0.53913837, 0.945128  , 0.48649556, 0.22620331,\n",
       "       0.0699678 , 0.43605389, 0.36546812, 0.21766472, 0.79263712,\n",
       "       0.72662554, 0.61478277, 0.26940697, 0.79547372, 0.66623899,\n",
       "       0.2791537 , 0.59698731, 0.45153142, 0.49635456, 0.22934488,\n",
       "       0.70829279, 0.16070866, 0.51139349, 0.47121019, 0.46231922,\n",
       "       0.07993316, 0.44878328, 0.097799  , 0.57202553, 0.3635843 ,\n",
       "       0.58013199, 0.02329855, 0.01111797, 0.51727556, 0.00380041,\n",
       "       0.29555109, 0.42618609, 0.57050669, 0.71286315, 0.40819814,\n",
       "       0.12673151, 0.5727082 , 0.38813202, 0.93173372, 0.71682131,\n",
       "       0.44121553, 0.89283655, 0.41577139, 0.58766865, 0.82533563,\n",
       "       0.10088719, 0.43339221, 0.97058958, 0.03886908, 0.75082277,\n",
       "       0.05784505, 0.53887101, 0.40770473, 0.44465812, 0.25038155,\n",
       "       0.8625436 , 0.87024137, 0.28208974, 0.39890147, 0.20197667,\n",
       "       0.55119573, 0.38429271, 0.14478667, 0.98546648, 0.87723124,\n",
       "       0.77392754, 0.02368922, 0.86699777, 0.57722391, 0.9450545 ,\n",
       "       0.1987451 , 0.73641468, 0.17245202, 0.77605868, 0.74526413,\n",
       "       0.84262385, 0.28782375, 0.41729321, 0.51172701, 0.10355749,\n",
       "       0.33154633, 0.11170561, 0.63984916, 0.15832048, 0.57299071,\n",
       "       0.52200609, 0.4094696 , 0.13982296, 0.92363851, 0.91516053,\n",
       "       0.00891314, 0.13974081, 0.06076132, 0.02349883, 0.87557454,\n",
       "       0.20721261, 0.11888866, 0.74664165, 0.68911271, 0.64880784,\n",
       "       0.29220979, 0.17629096, 0.38844492, 0.07996047, 0.60576556,\n",
       "       0.29182307, 0.45821794, 0.46403928, 0.1431387 , 0.3620167 ,\n",
       "       0.27861664, 0.55530584, 0.9716828 , 0.6573237 , 0.59987377,\n",
       "       0.26129841, 0.21629494, 0.58662225, 0.75212811, 0.96071436,\n",
       "       0.9811734 , 0.75718447, 0.48200544, 0.12616705, 0.88558061,\n",
       "       0.57203678, 0.93084921, 0.64225289, 0.06048373, 0.85468826,\n",
       "       0.86721128, 0.13056491, 0.53861659, 0.92508203, 0.1701599 ,\n",
       "       0.48829905, 0.42350308, 0.73677409, 0.08725815, 0.91434132,\n",
       "       0.83455198, 0.98272421, 0.92490096, 0.19852579, 0.90660147,\n",
       "       0.85705705, 0.82340269, 0.62104292, 0.71344717, 0.49915734,\n",
       "       0.57068667, 0.09324764, 0.1564481 , 0.76144396, 0.41127537,\n",
       "       0.99498248, 0.79236924, 0.04410996, 0.72458009, 0.60313357,\n",
       "       0.22037322, 0.67330802, 0.36562547, 0.62585394, 0.77966246,\n",
       "       0.09942498, 0.34522944, 0.04858916, 0.40604096, 0.12927374,\n",
       "       0.61131662, 0.30246059, 0.88038762, 0.24187819, 0.23182503,\n",
       "       0.09750875, 0.97738562, 0.97284444, 0.08984026, 0.49930785,\n",
       "       0.29845951, 0.94901525, 0.61882011, 0.23251291, 0.63978728,\n",
       "       0.06020509, 0.58722293, 0.5723429 , 0.28724341, 0.06346744,\n",
       "       0.08488312, 0.03355537, 0.29516703, 0.27565612, 0.36335866,\n",
       "       0.56440771, 0.00959011, 0.43057062, 0.17798371, 0.4365555 ,\n",
       "       0.71487928, 0.59288938, 0.1916463 , 0.94787878, 0.18498635,\n",
       "       0.30867348, 0.59005562, 0.22645821, 0.08313095, 0.32933229,\n",
       "       0.65341654, 0.2814304 , 0.62247765, 0.42549244, 0.98516631,\n",
       "       0.5306483 , 0.05996796, 0.22491909, 0.74329876, 0.29913944,\n",
       "       0.99926367, 0.36423333, 0.6551508 , 0.75292467, 0.47174832,\n",
       "       0.45123659, 0.650923  , 0.09424408, 0.93585522, 0.55681416,\n",
       "       0.70867546, 0.68052473, 0.66004738, 0.32124727, 0.62174121])"
      ]
     },
     "execution_count": 89,
     "metadata": {},
     "output_type": "execute_result"
    }
   ],
   "source": [
    "time_series_data"
   ]
  },
  {
   "cell_type": "code",
   "execution_count": 86,
   "metadata": {},
   "outputs": [],
   "source": [
    "reshaped_for_analysis = time_series_data[:364].reshape(52, 7)"
   ]
  },
  {
   "cell_type": "code",
   "execution_count": 88,
   "metadata": {},
   "outputs": [
    {
     "data": {
      "text/plain": [
       "array([[0.75637706, 0.79504935, 0.92257737, 0.23717417, 0.21993371,\n",
       "        0.67140579, 0.6225116 ],\n",
       "       [0.0330695 , 0.66824393, 0.49871054, 0.00530537, 0.17093216,\n",
       "        0.60303671, 0.77950028],\n",
       "       [0.0592037 , 0.56858167, 0.56536189, 0.48836865, 0.25519315,\n",
       "        0.0925107 , 0.92526808],\n",
       "       [0.50299137, 0.23042339, 0.36743045, 0.68482297, 0.17261938,\n",
       "        0.67441919, 0.40899128],\n",
       "       [0.22471677, 0.345311  , 0.20612427, 0.30103843, 0.20425812,\n",
       "        0.86955441, 0.65167648],\n",
       "       [0.74937068, 0.5292947 , 0.19741752, 0.21715391, 0.51716015,\n",
       "        0.99384288, 0.33776091],\n",
       "       [0.19292088, 0.18895118, 0.87505731, 0.22236077, 0.65742283,\n",
       "        0.96114204, 0.49070195],\n",
       "       [0.16242575, 0.55891428, 0.30706381, 0.15121433, 0.85981403,\n",
       "        0.63942742, 0.00607514],\n",
       "       [0.46963865, 0.54790207, 0.90135583, 0.586136  , 0.38820953,\n",
       "        0.36614695, 0.31108218],\n",
       "       [0.06731646, 0.17056446, 0.68348264, 0.47221567, 0.77348362,\n",
       "        0.22273535, 0.10601297],\n",
       "       [0.14578412, 0.43886613, 0.73340355, 0.27648053, 0.7491473 ,\n",
       "        0.86425167, 0.76974708],\n",
       "       [0.17009661, 0.72779328, 0.5401908 , 0.46051261, 0.47118262,\n",
       "        0.42262998, 0.00546069],\n",
       "       [0.38750131, 0.82158841, 0.7064991 , 0.03096334, 0.65343107,\n",
       "        0.87276883, 0.8070872 ],\n",
       "       [0.98171187, 0.526136  , 0.44110316, 0.0554818 , 0.00269464,\n",
       "        0.82359142, 0.05936172],\n",
       "       [0.80242015, 0.25195956, 0.23062025, 0.44613876, 0.90334124,\n",
       "        0.32335984, 0.00677735],\n",
       "       [0.52250366, 0.20434853, 0.85052808, 0.84080209, 0.25838429,\n",
       "        0.61841706, 0.70386868],\n",
       "       [0.28946869, 0.61858207, 0.65695668, 0.82282015, 0.44459848,\n",
       "        0.36447789, 0.98553593],\n",
       "       [0.881103  , 0.07971312, 0.51931928, 0.27982621, 0.93889153,\n",
       "        0.0164579 , 0.50569551],\n",
       "       [0.53913837, 0.945128  , 0.48649556, 0.22620331, 0.0699678 ,\n",
       "        0.43605389, 0.36546812],\n",
       "       [0.21766472, 0.79263712, 0.72662554, 0.61478277, 0.26940697,\n",
       "        0.79547372, 0.66623899],\n",
       "       [0.2791537 , 0.59698731, 0.45153142, 0.49635456, 0.22934488,\n",
       "        0.70829279, 0.16070866],\n",
       "       [0.51139349, 0.47121019, 0.46231922, 0.07993316, 0.44878328,\n",
       "        0.097799  , 0.57202553],\n",
       "       [0.3635843 , 0.58013199, 0.02329855, 0.01111797, 0.51727556,\n",
       "        0.00380041, 0.29555109],\n",
       "       [0.42618609, 0.57050669, 0.71286315, 0.40819814, 0.12673151,\n",
       "        0.5727082 , 0.38813202],\n",
       "       [0.93173372, 0.71682131, 0.44121553, 0.89283655, 0.41577139,\n",
       "        0.58766865, 0.82533563],\n",
       "       [0.10088719, 0.43339221, 0.97058958, 0.03886908, 0.75082277,\n",
       "        0.05784505, 0.53887101],\n",
       "       [0.40770473, 0.44465812, 0.25038155, 0.8625436 , 0.87024137,\n",
       "        0.28208974, 0.39890147],\n",
       "       [0.20197667, 0.55119573, 0.38429271, 0.14478667, 0.98546648,\n",
       "        0.87723124, 0.77392754],\n",
       "       [0.02368922, 0.86699777, 0.57722391, 0.9450545 , 0.1987451 ,\n",
       "        0.73641468, 0.17245202],\n",
       "       [0.77605868, 0.74526413, 0.84262385, 0.28782375, 0.41729321,\n",
       "        0.51172701, 0.10355749],\n",
       "       [0.33154633, 0.11170561, 0.63984916, 0.15832048, 0.57299071,\n",
       "        0.52200609, 0.4094696 ],\n",
       "       [0.13982296, 0.92363851, 0.91516053, 0.00891314, 0.13974081,\n",
       "        0.06076132, 0.02349883],\n",
       "       [0.87557454, 0.20721261, 0.11888866, 0.74664165, 0.68911271,\n",
       "        0.64880784, 0.29220979],\n",
       "       [0.17629096, 0.38844492, 0.07996047, 0.60576556, 0.29182307,\n",
       "        0.45821794, 0.46403928],\n",
       "       [0.1431387 , 0.3620167 , 0.27861664, 0.55530584, 0.9716828 ,\n",
       "        0.6573237 , 0.59987377],\n",
       "       [0.26129841, 0.21629494, 0.58662225, 0.75212811, 0.96071436,\n",
       "        0.9811734 , 0.75718447],\n",
       "       [0.48200544, 0.12616705, 0.88558061, 0.57203678, 0.93084921,\n",
       "        0.64225289, 0.06048373],\n",
       "       [0.85468826, 0.86721128, 0.13056491, 0.53861659, 0.92508203,\n",
       "        0.1701599 , 0.48829905],\n",
       "       [0.42350308, 0.73677409, 0.08725815, 0.91434132, 0.83455198,\n",
       "        0.98272421, 0.92490096],\n",
       "       [0.19852579, 0.90660147, 0.85705705, 0.82340269, 0.62104292,\n",
       "        0.71344717, 0.49915734],\n",
       "       [0.57068667, 0.09324764, 0.1564481 , 0.76144396, 0.41127537,\n",
       "        0.99498248, 0.79236924],\n",
       "       [0.04410996, 0.72458009, 0.60313357, 0.22037322, 0.67330802,\n",
       "        0.36562547, 0.62585394],\n",
       "       [0.77966246, 0.09942498, 0.34522944, 0.04858916, 0.40604096,\n",
       "        0.12927374, 0.61131662],\n",
       "       [0.30246059, 0.88038762, 0.24187819, 0.23182503, 0.09750875,\n",
       "        0.97738562, 0.97284444],\n",
       "       [0.08984026, 0.49930785, 0.29845951, 0.94901525, 0.61882011,\n",
       "        0.23251291, 0.63978728],\n",
       "       [0.06020509, 0.58722293, 0.5723429 , 0.28724341, 0.06346744,\n",
       "        0.08488312, 0.03355537],\n",
       "       [0.29516703, 0.27565612, 0.36335866, 0.56440771, 0.00959011,\n",
       "        0.43057062, 0.17798371],\n",
       "       [0.4365555 , 0.71487928, 0.59288938, 0.1916463 , 0.94787878,\n",
       "        0.18498635, 0.30867348],\n",
       "       [0.59005562, 0.22645821, 0.08313095, 0.32933229, 0.65341654,\n",
       "        0.2814304 , 0.62247765],\n",
       "       [0.42549244, 0.98516631, 0.5306483 , 0.05996796, 0.22491909,\n",
       "        0.74329876, 0.29913944],\n",
       "       [0.99926367, 0.36423333, 0.6551508 , 0.75292467, 0.47174832,\n",
       "        0.45123659, 0.650923  ],\n",
       "       [0.09424408, 0.93585522, 0.55681416, 0.70867546, 0.68052473,\n",
       "        0.66004738, 0.32124727]])"
      ]
     },
     "execution_count": 88,
     "metadata": {},
     "output_type": "execute_result"
    }
   ],
   "source": [
    "reshaped_for_analysis"
   ]
  }
 ],
 "metadata": {
  "kernelspec": {
   "display_name": "Python 3",
   "language": "python",
   "name": "python3"
  },
  "language_info": {
   "codemirror_mode": {
    "name": "ipython",
    "version": 3
   },
   "file_extension": ".py",
   "mimetype": "text/x-python",
   "name": "python",
   "nbconvert_exporter": "python",
   "pygments_lexer": "ipython3",
   "version": "3.11.9"
  }
 },
 "nbformat": 4,
 "nbformat_minor": 2
}
